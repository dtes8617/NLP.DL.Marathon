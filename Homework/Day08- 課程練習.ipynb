{
 "cells": [
  {
   "cell_type": "code",
   "execution_count": 1,
   "metadata": {
    "executionInfo": {
     "elapsed": 4580,
     "status": "ok",
     "timestamp": 1606131645003,
     "user": {
      "displayName": "Felix Pei",
      "photoUrl": "https://lh3.googleusercontent.com/a-/AOh14GjAjw3iNbP_aCjQqmiXrnu0LqK80xxhXT08lUdUVA=s64",
      "userId": "15614023586931524931"
     },
     "user_tz": -480
    },
    "id": "MQGMciJl2kj6"
   },
   "outputs": [],
   "source": [
    "import torch\n",
    "import torch.nn as nn\n",
    "import torchvision.models as models\n",
    "import torch.nn.functional as F\n",
    "import numpy as np"
   ]
  },
  {
   "cell_type": "code",
   "execution_count": 4,
   "metadata": {
    "executionInfo": {
     "elapsed": 1566,
     "status": "ok",
     "timestamp": 1606131647754,
     "user": {
      "displayName": "Felix Pei",
      "photoUrl": "https://lh3.googleusercontent.com/a-/AOh14GjAjw3iNbP_aCjQqmiXrnu0LqK80xxhXT08lUdUVA=s64",
      "userId": "15614023586931524931"
     },
     "user_tz": -480
    },
    "id": "ic9jBOTs2kj6"
   },
   "outputs": [],
   "source": [
    "input_ = torch.randn(1, 3, 128, 128)\n",
    "model = models.resnet18()"
   ]
  },
  {
   "cell_type": "markdown",
   "metadata": {
    "id": "7hnZ18tl2kj7"
   },
   "source": [
    "## 取出特定層資訊"
   ]
  },
  {
   "cell_type": "markdown",
   "metadata": {
    "id": "FGSP8Yv-2kj7"
   },
   "source": [
    "### 方法1 : 取出子 modules"
   ]
  },
  {
   "cell_type": "code",
   "execution_count": 5,
   "metadata": {
    "colab": {
     "base_uri": "https://localhost:8080/"
    },
    "executionInfo": {
     "elapsed": 1537,
     "status": "ok",
     "timestamp": 1606131651053,
     "user": {
      "displayName": "Felix Pei",
      "photoUrl": "https://lh3.googleusercontent.com/a-/AOh14GjAjw3iNbP_aCjQqmiXrnu0LqK80xxhXT08lUdUVA=s64",
      "userId": "15614023586931524931"
     },
     "user_tz": -480
    },
    "id": "h0YVftWV2kj7",
    "outputId": "31fdbe95-76fa-4af3-f1a9-0e46ed909d41"
   },
   "outputs": [
    {
     "name": "stdout",
     "output_type": "stream",
     "text": [
      "conv1\n",
      "bn1\n",
      "relu\n",
      "maxpool\n",
      "layer1\n",
      "layer2\n",
      "layer3\n",
      "layer4\n",
      "avgpool\n",
      "fc\n"
     ]
    }
   ],
   "source": [
    "for name,_ in model.named_children():\n",
    "    print(name)"
   ]
  },
  {
   "cell_type": "code",
   "execution_count": 6,
   "metadata": {
    "executionInfo": {
     "elapsed": 1463,
     "status": "ok",
     "timestamp": 1606131655223,
     "user": {
      "displayName": "Felix Pei",
      "photoUrl": "https://lh3.googleusercontent.com/a-/AOh14GjAjw3iNbP_aCjQqmiXrnu0LqK80xxhXT08lUdUVA=s64",
      "userId": "15614023586931524931"
     },
     "user_tz": -480
    },
    "id": "cBRbHYyf2kj8"
   },
   "outputs": [],
   "source": [
    "## 假設我們只需要 convolution最終的 output == 不需要 pooling, fc\n",
    "sub_model = nn.Sequential(*list(model.children())[:-2])"
   ]
  },
  {
   "cell_type": "code",
   "execution_count": 7,
   "metadata": {
    "colab": {
     "base_uri": "https://localhost:8080/"
    },
    "executionInfo": {
     "elapsed": 2341,
     "status": "ok",
     "timestamp": 1606131660148,
     "user": {
      "displayName": "Felix Pei",
      "photoUrl": "https://lh3.googleusercontent.com/a-/AOh14GjAjw3iNbP_aCjQqmiXrnu0LqK80xxhXT08lUdUVA=s64",
      "userId": "15614023586931524931"
     },
     "user_tz": -480
    },
    "id": "BnjZmvQs2kj8",
    "outputId": "e71b5956-90b6-45c5-e2e3-b9b55806a903"
   },
   "outputs": [
    {
     "name": "stdout",
     "output_type": "stream",
     "text": [
      "convolution 層 output shape : torch.Size([1, 512, 4, 4])\n"
     ]
    },
    {
     "name": "stderr",
     "output_type": "stream",
     "text": [
      "D:\\ProgramData\\Anaconda3\\envs\\py39\\lib\\site-packages\\torch\\nn\\functional.py:718: UserWarning: Named tensors and all their associated APIs are an experimental feature and subject to change. Please do not use them for anything important until they are released as stable. (Triggered internally at  ..\\c10/core/TensorImpl.h:1156.)\n",
      "  return torch.max_pool2d(input, kernel_size, stride, padding, dilation, ceil_mode)\n"
     ]
    }
   ],
   "source": [
    "input_ = torch.randn(1, 3, 128, 128)\n",
    "output = sub_model(input_)\n",
    "print('convolution 層 output shape : {}'.format(output.shape))"
   ]
  },
  {
   "cell_type": "markdown",
   "metadata": {
    "id": "Ng5CvFqy2kj8"
   },
   "source": [
    "### 接上自定義 output layer"
   ]
  },
  {
   "cell_type": "code",
   "execution_count": 8,
   "metadata": {
    "executionInfo": {
     "elapsed": 1697,
     "status": "ok",
     "timestamp": 1606131665316,
     "user": {
      "displayName": "Felix Pei",
      "photoUrl": "https://lh3.googleusercontent.com/a-/AOh14GjAjw3iNbP_aCjQqmiXrnu0LqK80xxhXT08lUdUVA=s64",
      "userId": "15614023586931524931"
     },
     "user_tz": -480
    },
    "id": "Q7CQ5nT42kj8"
   },
   "outputs": [],
   "source": [
    "class MyModel(nn.Module):\n",
    "    def __init__(self, output_class=5):\n",
    "        super(MyModel, self).__init__()\n",
    "        self.backbone = sub_model\n",
    "        self.output = nn.Linear(512 * 4 * 4, output_class)\n",
    "    \n",
    "    \n",
    "    \\\n",
    "    def forward(self, x):\n",
    "        x = self.backbone(x)\n",
    "        batch_size = x.shape[0]\n",
    "        x = x.reshape(batch_size, -1)\n",
    "        x = self.output(x)\n",
    "        return(x)"
   ]
  },
  {
   "cell_type": "code",
   "execution_count": 9,
   "metadata": {
    "executionInfo": {
     "elapsed": 1832,
     "status": "ok",
     "timestamp": 1606131679602,
     "user": {
      "displayName": "Felix Pei",
      "photoUrl": "https://lh3.googleusercontent.com/a-/AOh14GjAjw3iNbP_aCjQqmiXrnu0LqK80xxhXT08lUdUVA=s64",
      "userId": "15614023586931524931"
     },
     "user_tz": -480
    },
    "id": "0j1Ch1i92kj8"
   },
   "outputs": [],
   "source": [
    "updated_model = MyModel()"
   ]
  },
  {
   "cell_type": "code",
   "execution_count": 10,
   "metadata": {
    "id": "oc98WXJP2kj8",
    "outputId": "996ae254-2416-42cc-f3d1-6e6432ca9c8d"
   },
   "outputs": [
    {
     "name": "stdout",
     "output_type": "stream",
     "text": [
      "output shape : torch.Size([1, 5])\n"
     ]
    }
   ],
   "source": [
    "input_ = torch.randn(1, 3, 128, 128)\n",
    "output = updated_model(input_)\n",
    "print('output shape : {}'.format(output.shape))"
   ]
  },
  {
   "cell_type": "markdown",
   "metadata": {
    "id": "Po2eoBJE2kj8"
   },
   "source": [
    "### 自行定義 forward"
   ]
  },
  {
   "cell_type": "code",
   "execution_count": 11,
   "metadata": {
    "id": "CEmnDz852kj8"
   },
   "outputs": [],
   "source": [
    "class MyModel(nn.Module):\n",
    "    def __init__(self, output_class=5):\n",
    "        super(MyModel, self).__init__()\n",
    "        self.input_cov = model.conv1\n",
    "        self.first_bn = model.bn1\n",
    "        self.first_relu = model.relu\n",
    "        self.maxpool = model.maxpool\n",
    "        self.layer1 = model.layer1\n",
    "        self.layer2 = model.layer2\n",
    "        self.layer3 = model.layer3\n",
    "        self.layer4 = model.layer4\n",
    "        self.avpool = model.avgpool\n",
    "        self.output = nn.Linear(512, output_class)\n",
    "    def forward(self, x):\n",
    "        x = self.input_cov(x)\n",
    "        x = self.first_bn(x)\n",
    "        x = self.first_relu(x)\n",
    "        x = self.maxpool(x)\n",
    "        x = self.layer1(x)\n",
    "        x = self.layer2(x)\n",
    "        x = self.layer3(x)\n",
    "        x = self.layer4(x)\n",
    "        x = self.avpool(x)\n",
    "        \n",
    "        x = x.reshape(-1, 512)\n",
    "        x = self.output(x)\n",
    "        \n",
    "        return(x)"
   ]
  },
  {
   "cell_type": "code",
   "execution_count": 12,
   "metadata": {
    "id": "WQYz3hSV2kj8"
   },
   "outputs": [],
   "source": [
    "new_model = MyModel()"
   ]
  },
  {
   "cell_type": "code",
   "execution_count": 13,
   "metadata": {
    "id": "epbQPlVx2kj8",
    "outputId": "34e22e61-9f81-44ed-c2f1-4a4aa687d70d"
   },
   "outputs": [
    {
     "name": "stdout",
     "output_type": "stream",
     "text": [
      "output shape : torch.Size([1, 5])\n"
     ]
    }
   ],
   "source": [
    "input_ = torch.randn(1, 3, 128, 128)\n",
    "output = new_model(input_)\n",
    "print('output shape : {}'.format(output.shape))"
   ]
  },
  {
   "cell_type": "markdown",
   "metadata": {
    "id": "-gsWk7bo2kj8"
   },
   "source": [
    "### Hook\n",
    "* 延伸閱讀：https://zhuanlan.zhihu.com/p/75054200"
   ]
  },
  {
   "cell_type": "markdown",
   "metadata": {
    "id": "CsuFlrVx2kj8"
   },
   "source": [
    "#### register_forward_hook, register_backward_hook\n",
    "* hook直譯為鉤子，可以理解為鉤住我們想要的資訊。\n",
    "* .forward , .backward 是 nn.Module 底下的函數，而register_forward_hook, register_backward_hook顧名思義就是針對兩個函數自訂欲取出的內容。\n",
    "* 每當我們執行 model.forward(), model.backward() 被註冊的 hook就會啟動。"
   ]
  },
  {
   "cell_type": "code",
   "execution_count": 14,
   "metadata": {
    "id": "X3b70Q6-2kj8"
   },
   "outputs": [],
   "source": [
    "# register_forward_hook\n",
    "# register_backward_hook"
   ]
  },
  {
   "cell_type": "code",
   "execution_count": 15,
   "metadata": {
    "id": "0_6lrqJT2kj8"
   },
   "outputs": [],
   "source": [
    "input_ = torch.randn(1, 3, 128, 128)\n",
    "model = models.resnet18()"
   ]
  },
  {
   "cell_type": "code",
   "execution_count": 16,
   "metadata": {
    "id": "WcJ3sRkG2kj8",
    "outputId": "0e27a6c6-f0a7-4aa2-e195-7cc49c5de461"
   },
   "outputs": [
    {
     "data": {
      "text/plain": [
       "<bound method Module.children of ResNet(\n",
       "  (conv1): Conv2d(3, 64, kernel_size=(7, 7), stride=(2, 2), padding=(3, 3), bias=False)\n",
       "  (bn1): BatchNorm2d(64, eps=1e-05, momentum=0.1, affine=True, track_running_stats=True)\n",
       "  (relu): ReLU(inplace=True)\n",
       "  (maxpool): MaxPool2d(kernel_size=3, stride=2, padding=1, dilation=1, ceil_mode=False)\n",
       "  (layer1): Sequential(\n",
       "    (0): BasicBlock(\n",
       "      (conv1): Conv2d(64, 64, kernel_size=(3, 3), stride=(1, 1), padding=(1, 1), bias=False)\n",
       "      (bn1): BatchNorm2d(64, eps=1e-05, momentum=0.1, affine=True, track_running_stats=True)\n",
       "      (relu): ReLU(inplace=True)\n",
       "      (conv2): Conv2d(64, 64, kernel_size=(3, 3), stride=(1, 1), padding=(1, 1), bias=False)\n",
       "      (bn2): BatchNorm2d(64, eps=1e-05, momentum=0.1, affine=True, track_running_stats=True)\n",
       "    )\n",
       "    (1): BasicBlock(\n",
       "      (conv1): Conv2d(64, 64, kernel_size=(3, 3), stride=(1, 1), padding=(1, 1), bias=False)\n",
       "      (bn1): BatchNorm2d(64, eps=1e-05, momentum=0.1, affine=True, track_running_stats=True)\n",
       "      (relu): ReLU(inplace=True)\n",
       "      (conv2): Conv2d(64, 64, kernel_size=(3, 3), stride=(1, 1), padding=(1, 1), bias=False)\n",
       "      (bn2): BatchNorm2d(64, eps=1e-05, momentum=0.1, affine=True, track_running_stats=True)\n",
       "    )\n",
       "  )\n",
       "  (layer2): Sequential(\n",
       "    (0): BasicBlock(\n",
       "      (conv1): Conv2d(64, 128, kernel_size=(3, 3), stride=(2, 2), padding=(1, 1), bias=False)\n",
       "      (bn1): BatchNorm2d(128, eps=1e-05, momentum=0.1, affine=True, track_running_stats=True)\n",
       "      (relu): ReLU(inplace=True)\n",
       "      (conv2): Conv2d(128, 128, kernel_size=(3, 3), stride=(1, 1), padding=(1, 1), bias=False)\n",
       "      (bn2): BatchNorm2d(128, eps=1e-05, momentum=0.1, affine=True, track_running_stats=True)\n",
       "      (downsample): Sequential(\n",
       "        (0): Conv2d(64, 128, kernel_size=(1, 1), stride=(2, 2), bias=False)\n",
       "        (1): BatchNorm2d(128, eps=1e-05, momentum=0.1, affine=True, track_running_stats=True)\n",
       "      )\n",
       "    )\n",
       "    (1): BasicBlock(\n",
       "      (conv1): Conv2d(128, 128, kernel_size=(3, 3), stride=(1, 1), padding=(1, 1), bias=False)\n",
       "      (bn1): BatchNorm2d(128, eps=1e-05, momentum=0.1, affine=True, track_running_stats=True)\n",
       "      (relu): ReLU(inplace=True)\n",
       "      (conv2): Conv2d(128, 128, kernel_size=(3, 3), stride=(1, 1), padding=(1, 1), bias=False)\n",
       "      (bn2): BatchNorm2d(128, eps=1e-05, momentum=0.1, affine=True, track_running_stats=True)\n",
       "    )\n",
       "  )\n",
       "  (layer3): Sequential(\n",
       "    (0): BasicBlock(\n",
       "      (conv1): Conv2d(128, 256, kernel_size=(3, 3), stride=(2, 2), padding=(1, 1), bias=False)\n",
       "      (bn1): BatchNorm2d(256, eps=1e-05, momentum=0.1, affine=True, track_running_stats=True)\n",
       "      (relu): ReLU(inplace=True)\n",
       "      (conv2): Conv2d(256, 256, kernel_size=(3, 3), stride=(1, 1), padding=(1, 1), bias=False)\n",
       "      (bn2): BatchNorm2d(256, eps=1e-05, momentum=0.1, affine=True, track_running_stats=True)\n",
       "      (downsample): Sequential(\n",
       "        (0): Conv2d(128, 256, kernel_size=(1, 1), stride=(2, 2), bias=False)\n",
       "        (1): BatchNorm2d(256, eps=1e-05, momentum=0.1, affine=True, track_running_stats=True)\n",
       "      )\n",
       "    )\n",
       "    (1): BasicBlock(\n",
       "      (conv1): Conv2d(256, 256, kernel_size=(3, 3), stride=(1, 1), padding=(1, 1), bias=False)\n",
       "      (bn1): BatchNorm2d(256, eps=1e-05, momentum=0.1, affine=True, track_running_stats=True)\n",
       "      (relu): ReLU(inplace=True)\n",
       "      (conv2): Conv2d(256, 256, kernel_size=(3, 3), stride=(1, 1), padding=(1, 1), bias=False)\n",
       "      (bn2): BatchNorm2d(256, eps=1e-05, momentum=0.1, affine=True, track_running_stats=True)\n",
       "    )\n",
       "  )\n",
       "  (layer4): Sequential(\n",
       "    (0): BasicBlock(\n",
       "      (conv1): Conv2d(256, 512, kernel_size=(3, 3), stride=(2, 2), padding=(1, 1), bias=False)\n",
       "      (bn1): BatchNorm2d(512, eps=1e-05, momentum=0.1, affine=True, track_running_stats=True)\n",
       "      (relu): ReLU(inplace=True)\n",
       "      (conv2): Conv2d(512, 512, kernel_size=(3, 3), stride=(1, 1), padding=(1, 1), bias=False)\n",
       "      (bn2): BatchNorm2d(512, eps=1e-05, momentum=0.1, affine=True, track_running_stats=True)\n",
       "      (downsample): Sequential(\n",
       "        (0): Conv2d(256, 512, kernel_size=(1, 1), stride=(2, 2), bias=False)\n",
       "        (1): BatchNorm2d(512, eps=1e-05, momentum=0.1, affine=True, track_running_stats=True)\n",
       "      )\n",
       "    )\n",
       "    (1): BasicBlock(\n",
       "      (conv1): Conv2d(512, 512, kernel_size=(3, 3), stride=(1, 1), padding=(1, 1), bias=False)\n",
       "      (bn1): BatchNorm2d(512, eps=1e-05, momentum=0.1, affine=True, track_running_stats=True)\n",
       "      (relu): ReLU(inplace=True)\n",
       "      (conv2): Conv2d(512, 512, kernel_size=(3, 3), stride=(1, 1), padding=(1, 1), bias=False)\n",
       "      (bn2): BatchNorm2d(512, eps=1e-05, momentum=0.1, affine=True, track_running_stats=True)\n",
       "    )\n",
       "  )\n",
       "  (avgpool): AdaptiveAvgPool2d(output_size=(1, 1))\n",
       "  (fc): Linear(in_features=512, out_features=1000, bias=True)\n",
       ")>"
      ]
     },
     "execution_count": 16,
     "metadata": {},
     "output_type": "execute_result"
    }
   ],
   "source": [
    "## 假設我們想要取出 layer1 第一個BasicBlock的 output\n",
    "model.children"
   ]
  },
  {
   "cell_type": "code",
   "execution_count": 17,
   "metadata": {
    "id": "o_6N5BhQ2kj8",
    "outputId": "2ff4a25c-a557-4278-eccf-558df606c3be"
   },
   "outputs": [
    {
     "data": {
      "text/plain": [
       "<torch.utils.hooks.RemovableHandle at 0x2748c4e1ac0>"
      ]
     },
     "execution_count": 17,
     "metadata": {},
     "output_type": "execute_result"
    }
   ],
   "source": [
    "outputs= []\n",
    "def layer1_hook(module, input_, output):\n",
    "    outputs.append(output)\n",
    "    \n",
    "model.layer1[0].register_forward_hook(layer1_hook)"
   ]
  },
  {
   "cell_type": "code",
   "execution_count": 18,
   "metadata": {},
   "outputs": [
    {
     "data": {
      "text/plain": [
       "[]"
      ]
     },
     "execution_count": 18,
     "metadata": {},
     "output_type": "execute_result"
    }
   ],
   "source": [
    "outputs"
   ]
  },
  {
   "cell_type": "code",
   "execution_count": 19,
   "metadata": {
    "id": "lNWuJbda2kj8"
   },
   "outputs": [],
   "source": [
    "outupt = model(input_)"
   ]
  },
  {
   "cell_type": "code",
   "execution_count": 20,
   "metadata": {
    "id": "Ma0qAe9P2kj8",
    "outputId": "cc171194-f544-43ef-f273-722367b50785"
   },
   "outputs": [
    {
     "data": {
      "text/plain": [
       "torch.Size([1, 64, 32, 32])"
      ]
     },
     "execution_count": 20,
     "metadata": {},
     "output_type": "execute_result"
    }
   ],
   "source": [
    "outputs[0].shape"
   ]
  },
  {
   "cell_type": "markdown",
   "metadata": {
    "id": "dwbXW8Bw2kj9"
   },
   "source": [
    "### hook延伸應用：假設我們想看到每一個子 module 輸出tensor的shape"
   ]
  },
  {
   "cell_type": "code",
   "execution_count": 21,
   "metadata": {
    "id": "9emYsg_72kj9"
   },
   "outputs": [],
   "source": [
    "input_ = torch.randn(1, 3, 128, 128)\n",
    "model = models.resnet18()"
   ]
  },
  {
   "cell_type": "code",
   "execution_count": 22,
   "metadata": {
    "id": "H25rAGby2kj9"
   },
   "outputs": [],
   "source": [
    "outputs= []\n",
    "def hook(module, input_, output):\n",
    "    outputs.append(output.shape)\n",
    "\n",
    "for module in model.children():\n",
    "    module.register_forward_hook(hook)\n"
   ]
  },
  {
   "cell_type": "code",
   "execution_count": 23,
   "metadata": {
    "id": "wEPSfU5Y2kj9"
   },
   "outputs": [],
   "source": [
    "outupt = model(input_)"
   ]
  },
  {
   "cell_type": "code",
   "execution_count": 24,
   "metadata": {
    "id": "-i7RjCVQ2kj9",
    "outputId": "021cb9a7-5f5b-47d0-a1a1-565fd8eb33b9"
   },
   "outputs": [
    {
     "data": {
      "text/plain": [
       "[torch.Size([1, 64, 64, 64]),\n",
       " torch.Size([1, 64, 64, 64]),\n",
       " torch.Size([1, 64, 64, 64]),\n",
       " torch.Size([1, 64, 32, 32]),\n",
       " torch.Size([1, 64, 32, 32]),\n",
       " torch.Size([1, 128, 16, 16]),\n",
       " torch.Size([1, 256, 8, 8]),\n",
       " torch.Size([1, 512, 4, 4]),\n",
       " torch.Size([1, 512, 1, 1]),\n",
       " torch.Size([1, 1000])]"
      ]
     },
     "execution_count": 24,
     "metadata": {},
     "output_type": "execute_result"
    }
   ],
   "source": [
    "outputs"
   ]
  },
  {
   "cell_type": "markdown",
   "metadata": {
    "id": "r599m3LC2kj9"
   },
   "source": [
    "### Weight initialization\n",
    "* 預設：https://github.com/pytorch/pytorch/tree/master/torch/nn/modules\n",
    "* 參考每個 function底下的 : reset_parameters\n",
    "* PyTorch Initialization function：https://pytorch.org/docs/stable/nn.init.html"
   ]
  },
  {
   "cell_type": "code",
   "execution_count": 49,
   "metadata": {},
   "outputs": [],
   "source": [
    "m = nn.Conv2d(3, 6, 5)"
   ]
  },
  {
   "cell_type": "code",
   "execution_count": 25,
   "metadata": {
    "id": "0K8lIn9k2kj9",
    "outputId": "0fa7c755-869e-4471-e5e4-06e7e9cb8ebf"
   },
   "outputs": [
    {
     "name": "stdout",
     "output_type": "stream",
     "text": [
      "init success...\n"
     ]
    }
   ],
   "source": [
    "from torch.nn import init\n",
    "\n",
    "def weights_init(m):\n",
    "    #classname = m.__class__.__name__\n",
    "    if isinstance(m, nn.Conv2d):\n",
    "        #torch.nn.init.xavier_uniform_(m.weight)\n",
    "        nn.init.kaiming_normal_(m.weight.data,\n",
    "                                    a=0,\n",
    "                                    mode='fan_out',\n",
    "                                    nonlinearity='relu')\n",
    "        if m.bias is not None:\n",
    "            torch.nn.init.zeros_(m.bias)\n",
    "    elif isinstance(m, nn.Linear):\n",
    "        n = m.in_features\n",
    "        y = 1.0/np.sqrt(n)\n",
    "        m.weight.data.uniform_(-y, y)\n",
    "        if m.bias is not None:\n",
    "            m.bias.data.fill_(0)\n",
    "\n",
    "\n",
    "model.apply(weights_init)\n",
    "print('init success...')"
   ]
  },
  {
   "cell_type": "markdown",
   "metadata": {
    "id": "Q_CYNP8D2kj9"
   },
   "source": [
    "### 得到模型完整資訊"
   ]
  },
  {
   "cell_type": "code",
   "execution_count": 26,
   "metadata": {
    "id": "i6zvi89K2kj9"
   },
   "outputs": [],
   "source": [
    "#pip install torchsummary\n",
    "from torchsummary import summary"
   ]
  },
  {
   "cell_type": "code",
   "execution_count": 27,
   "metadata": {
    "id": "RIWiS4jz2kj9"
   },
   "outputs": [],
   "source": [
    "input_ = torch.randn(1, 3, 128, 128)\n",
    "model = models.resnet18()"
   ]
  },
  {
   "cell_type": "code",
   "execution_count": 28,
   "metadata": {
    "id": "R22LW9zQ2kj9",
    "outputId": "d1b862ba-2a53-4a9c-e4fb-691e9b29dfc9"
   },
   "outputs": [
    {
     "name": "stdout",
     "output_type": "stream",
     "text": [
      "==========================================================================================\n",
      "Layer (type:depth-idx)                   Output Shape              Param #\n",
      "==========================================================================================\n",
      "├─Conv2d: 1-1                            [-1, 64, 64, 64]          9,408\n",
      "├─BatchNorm2d: 1-2                       [-1, 64, 64, 64]          128\n",
      "├─ReLU: 1-3                              [-1, 64, 64, 64]          --\n",
      "├─MaxPool2d: 1-4                         [-1, 64, 32, 32]          --\n",
      "├─Sequential: 1-5                        [-1, 64, 32, 32]          --\n",
      "|    └─BasicBlock: 2-1                   [-1, 64, 32, 32]          --\n",
      "|    |    └─Conv2d: 3-1                  [-1, 64, 32, 32]          36,864\n",
      "|    |    └─BatchNorm2d: 3-2             [-1, 64, 32, 32]          128\n",
      "|    |    └─ReLU: 3-3                    [-1, 64, 32, 32]          --\n",
      "|    |    └─Conv2d: 3-4                  [-1, 64, 32, 32]          36,864\n",
      "|    |    └─BatchNorm2d: 3-5             [-1, 64, 32, 32]          128\n",
      "|    |    └─ReLU: 3-6                    [-1, 64, 32, 32]          --\n",
      "|    └─BasicBlock: 2-2                   [-1, 64, 32, 32]          --\n",
      "|    |    └─Conv2d: 3-7                  [-1, 64, 32, 32]          36,864\n",
      "|    |    └─BatchNorm2d: 3-8             [-1, 64, 32, 32]          128\n",
      "|    |    └─ReLU: 3-9                    [-1, 64, 32, 32]          --\n",
      "|    |    └─Conv2d: 3-10                 [-1, 64, 32, 32]          36,864\n",
      "|    |    └─BatchNorm2d: 3-11            [-1, 64, 32, 32]          128\n",
      "|    |    └─ReLU: 3-12                   [-1, 64, 32, 32]          --\n",
      "├─Sequential: 1-6                        [-1, 128, 16, 16]         --\n",
      "|    └─BasicBlock: 2-3                   [-1, 128, 16, 16]         --\n",
      "|    |    └─Conv2d: 3-13                 [-1, 128, 16, 16]         73,728\n",
      "|    |    └─BatchNorm2d: 3-14            [-1, 128, 16, 16]         256\n",
      "|    |    └─ReLU: 3-15                   [-1, 128, 16, 16]         --\n",
      "|    |    └─Conv2d: 3-16                 [-1, 128, 16, 16]         147,456\n",
      "|    |    └─BatchNorm2d: 3-17            [-1, 128, 16, 16]         256\n",
      "|    |    └─Sequential: 3-18             [-1, 128, 16, 16]         8,448\n",
      "|    |    └─ReLU: 3-19                   [-1, 128, 16, 16]         --\n",
      "|    └─BasicBlock: 2-4                   [-1, 128, 16, 16]         --\n",
      "|    |    └─Conv2d: 3-20                 [-1, 128, 16, 16]         147,456\n",
      "|    |    └─BatchNorm2d: 3-21            [-1, 128, 16, 16]         256\n",
      "|    |    └─ReLU: 3-22                   [-1, 128, 16, 16]         --\n",
      "|    |    └─Conv2d: 3-23                 [-1, 128, 16, 16]         147,456\n",
      "|    |    └─BatchNorm2d: 3-24            [-1, 128, 16, 16]         256\n",
      "|    |    └─ReLU: 3-25                   [-1, 128, 16, 16]         --\n",
      "├─Sequential: 1-7                        [-1, 256, 8, 8]           --\n",
      "|    └─BasicBlock: 2-5                   [-1, 256, 8, 8]           --\n",
      "|    |    └─Conv2d: 3-26                 [-1, 256, 8, 8]           294,912\n",
      "|    |    └─BatchNorm2d: 3-27            [-1, 256, 8, 8]           512\n",
      "|    |    └─ReLU: 3-28                   [-1, 256, 8, 8]           --\n",
      "|    |    └─Conv2d: 3-29                 [-1, 256, 8, 8]           589,824\n",
      "|    |    └─BatchNorm2d: 3-30            [-1, 256, 8, 8]           512\n",
      "|    |    └─Sequential: 3-31             [-1, 256, 8, 8]           33,280\n",
      "|    |    └─ReLU: 3-32                   [-1, 256, 8, 8]           --\n",
      "|    └─BasicBlock: 2-6                   [-1, 256, 8, 8]           --\n",
      "|    |    └─Conv2d: 3-33                 [-1, 256, 8, 8]           589,824\n",
      "|    |    └─BatchNorm2d: 3-34            [-1, 256, 8, 8]           512\n",
      "|    |    └─ReLU: 3-35                   [-1, 256, 8, 8]           --\n",
      "|    |    └─Conv2d: 3-36                 [-1, 256, 8, 8]           589,824\n",
      "|    |    └─BatchNorm2d: 3-37            [-1, 256, 8, 8]           512\n",
      "|    |    └─ReLU: 3-38                   [-1, 256, 8, 8]           --\n",
      "├─Sequential: 1-8                        [-1, 512, 4, 4]           --\n",
      "|    └─BasicBlock: 2-7                   [-1, 512, 4, 4]           --\n",
      "|    |    └─Conv2d: 3-39                 [-1, 512, 4, 4]           1,179,648\n",
      "|    |    └─BatchNorm2d: 3-40            [-1, 512, 4, 4]           1,024\n",
      "|    |    └─ReLU: 3-41                   [-1, 512, 4, 4]           --\n",
      "|    |    └─Conv2d: 3-42                 [-1, 512, 4, 4]           2,359,296\n",
      "|    |    └─BatchNorm2d: 3-43            [-1, 512, 4, 4]           1,024\n",
      "|    |    └─Sequential: 3-44             [-1, 512, 4, 4]           132,096\n",
      "|    |    └─ReLU: 3-45                   [-1, 512, 4, 4]           --\n",
      "|    └─BasicBlock: 2-8                   [-1, 512, 4, 4]           --\n",
      "|    |    └─Conv2d: 3-46                 [-1, 512, 4, 4]           2,359,296\n",
      "|    |    └─BatchNorm2d: 3-47            [-1, 512, 4, 4]           1,024\n",
      "|    |    └─ReLU: 3-48                   [-1, 512, 4, 4]           --\n",
      "|    |    └─Conv2d: 3-49                 [-1, 512, 4, 4]           2,359,296\n",
      "|    |    └─BatchNorm2d: 3-50            [-1, 512, 4, 4]           1,024\n",
      "|    |    └─ReLU: 3-51                   [-1, 512, 4, 4]           --\n",
      "├─AdaptiveAvgPool2d: 1-9                 [-1, 512, 1, 1]           --\n",
      "├─Linear: 1-10                           [-1, 1000]                513,000\n",
      "==========================================================================================\n",
      "Total params: 11,689,512\n",
      "Trainable params: 11,689,512\n",
      "Non-trainable params: 0\n",
      "Total mult-adds (M): 615.20\n",
      "==========================================================================================\n",
      "Input size (MB): 0.19\n",
      "Forward/backward pass size (MB): 12.38\n",
      "Params size (MB): 44.59\n",
      "Estimated Total Size (MB): 57.16\n",
      "==========================================================================================\n"
     ]
    },
    {
     "data": {
      "text/plain": [
       "==========================================================================================\n",
       "Layer (type:depth-idx)                   Output Shape              Param #\n",
       "==========================================================================================\n",
       "├─Conv2d: 1-1                            [-1, 64, 64, 64]          9,408\n",
       "├─BatchNorm2d: 1-2                       [-1, 64, 64, 64]          128\n",
       "├─ReLU: 1-3                              [-1, 64, 64, 64]          --\n",
       "├─MaxPool2d: 1-4                         [-1, 64, 32, 32]          --\n",
       "├─Sequential: 1-5                        [-1, 64, 32, 32]          --\n",
       "|    └─BasicBlock: 2-1                   [-1, 64, 32, 32]          --\n",
       "|    |    └─Conv2d: 3-1                  [-1, 64, 32, 32]          36,864\n",
       "|    |    └─BatchNorm2d: 3-2             [-1, 64, 32, 32]          128\n",
       "|    |    └─ReLU: 3-3                    [-1, 64, 32, 32]          --\n",
       "|    |    └─Conv2d: 3-4                  [-1, 64, 32, 32]          36,864\n",
       "|    |    └─BatchNorm2d: 3-5             [-1, 64, 32, 32]          128\n",
       "|    |    └─ReLU: 3-6                    [-1, 64, 32, 32]          --\n",
       "|    └─BasicBlock: 2-2                   [-1, 64, 32, 32]          --\n",
       "|    |    └─Conv2d: 3-7                  [-1, 64, 32, 32]          36,864\n",
       "|    |    └─BatchNorm2d: 3-8             [-1, 64, 32, 32]          128\n",
       "|    |    └─ReLU: 3-9                    [-1, 64, 32, 32]          --\n",
       "|    |    └─Conv2d: 3-10                 [-1, 64, 32, 32]          36,864\n",
       "|    |    └─BatchNorm2d: 3-11            [-1, 64, 32, 32]          128\n",
       "|    |    └─ReLU: 3-12                   [-1, 64, 32, 32]          --\n",
       "├─Sequential: 1-6                        [-1, 128, 16, 16]         --\n",
       "|    └─BasicBlock: 2-3                   [-1, 128, 16, 16]         --\n",
       "|    |    └─Conv2d: 3-13                 [-1, 128, 16, 16]         73,728\n",
       "|    |    └─BatchNorm2d: 3-14            [-1, 128, 16, 16]         256\n",
       "|    |    └─ReLU: 3-15                   [-1, 128, 16, 16]         --\n",
       "|    |    └─Conv2d: 3-16                 [-1, 128, 16, 16]         147,456\n",
       "|    |    └─BatchNorm2d: 3-17            [-1, 128, 16, 16]         256\n",
       "|    |    └─Sequential: 3-18             [-1, 128, 16, 16]         8,448\n",
       "|    |    └─ReLU: 3-19                   [-1, 128, 16, 16]         --\n",
       "|    └─BasicBlock: 2-4                   [-1, 128, 16, 16]         --\n",
       "|    |    └─Conv2d: 3-20                 [-1, 128, 16, 16]         147,456\n",
       "|    |    └─BatchNorm2d: 3-21            [-1, 128, 16, 16]         256\n",
       "|    |    └─ReLU: 3-22                   [-1, 128, 16, 16]         --\n",
       "|    |    └─Conv2d: 3-23                 [-1, 128, 16, 16]         147,456\n",
       "|    |    └─BatchNorm2d: 3-24            [-1, 128, 16, 16]         256\n",
       "|    |    └─ReLU: 3-25                   [-1, 128, 16, 16]         --\n",
       "├─Sequential: 1-7                        [-1, 256, 8, 8]           --\n",
       "|    └─BasicBlock: 2-5                   [-1, 256, 8, 8]           --\n",
       "|    |    └─Conv2d: 3-26                 [-1, 256, 8, 8]           294,912\n",
       "|    |    └─BatchNorm2d: 3-27            [-1, 256, 8, 8]           512\n",
       "|    |    └─ReLU: 3-28                   [-1, 256, 8, 8]           --\n",
       "|    |    └─Conv2d: 3-29                 [-1, 256, 8, 8]           589,824\n",
       "|    |    └─BatchNorm2d: 3-30            [-1, 256, 8, 8]           512\n",
       "|    |    └─Sequential: 3-31             [-1, 256, 8, 8]           33,280\n",
       "|    |    └─ReLU: 3-32                   [-1, 256, 8, 8]           --\n",
       "|    └─BasicBlock: 2-6                   [-1, 256, 8, 8]           --\n",
       "|    |    └─Conv2d: 3-33                 [-1, 256, 8, 8]           589,824\n",
       "|    |    └─BatchNorm2d: 3-34            [-1, 256, 8, 8]           512\n",
       "|    |    └─ReLU: 3-35                   [-1, 256, 8, 8]           --\n",
       "|    |    └─Conv2d: 3-36                 [-1, 256, 8, 8]           589,824\n",
       "|    |    └─BatchNorm2d: 3-37            [-1, 256, 8, 8]           512\n",
       "|    |    └─ReLU: 3-38                   [-1, 256, 8, 8]           --\n",
       "├─Sequential: 1-8                        [-1, 512, 4, 4]           --\n",
       "|    └─BasicBlock: 2-7                   [-1, 512, 4, 4]           --\n",
       "|    |    └─Conv2d: 3-39                 [-1, 512, 4, 4]           1,179,648\n",
       "|    |    └─BatchNorm2d: 3-40            [-1, 512, 4, 4]           1,024\n",
       "|    |    └─ReLU: 3-41                   [-1, 512, 4, 4]           --\n",
       "|    |    └─Conv2d: 3-42                 [-1, 512, 4, 4]           2,359,296\n",
       "|    |    └─BatchNorm2d: 3-43            [-1, 512, 4, 4]           1,024\n",
       "|    |    └─Sequential: 3-44             [-1, 512, 4, 4]           132,096\n",
       "|    |    └─ReLU: 3-45                   [-1, 512, 4, 4]           --\n",
       "|    └─BasicBlock: 2-8                   [-1, 512, 4, 4]           --\n",
       "|    |    └─Conv2d: 3-46                 [-1, 512, 4, 4]           2,359,296\n",
       "|    |    └─BatchNorm2d: 3-47            [-1, 512, 4, 4]           1,024\n",
       "|    |    └─ReLU: 3-48                   [-1, 512, 4, 4]           --\n",
       "|    |    └─Conv2d: 3-49                 [-1, 512, 4, 4]           2,359,296\n",
       "|    |    └─BatchNorm2d: 3-50            [-1, 512, 4, 4]           1,024\n",
       "|    |    └─ReLU: 3-51                   [-1, 512, 4, 4]           --\n",
       "├─AdaptiveAvgPool2d: 1-9                 [-1, 512, 1, 1]           --\n",
       "├─Linear: 1-10                           [-1, 1000]                513,000\n",
       "==========================================================================================\n",
       "Total params: 11,689,512\n",
       "Trainable params: 11,689,512\n",
       "Non-trainable params: 0\n",
       "Total mult-adds (M): 615.20\n",
       "==========================================================================================\n",
       "Input size (MB): 0.19\n",
       "Forward/backward pass size (MB): 12.38\n",
       "Params size (MB): 44.59\n",
       "Estimated Total Size (MB): 57.16\n",
       "=========================================================================================="
      ]
     },
     "execution_count": 28,
     "metadata": {},
     "output_type": "execute_result"
    }
   ],
   "source": [
    "summary(model, input_,)"
   ]
  }
 ],
 "metadata": {
  "colab": {
   "name": "課程練習.ipynb",
   "provenance": []
  },
  "kernelspec": {
   "display_name": "py39",
   "language": "python",
   "name": "py39"
  },
  "language_info": {
   "codemirror_mode": {
    "name": "ipython",
    "version": 3
   },
   "file_extension": ".py",
   "mimetype": "text/x-python",
   "name": "python",
   "nbconvert_exporter": "python",
   "pygments_lexer": "ipython3",
   "version": "3.9.2"
  }
 },
 "nbformat": 4,
 "nbformat_minor": 4
}
