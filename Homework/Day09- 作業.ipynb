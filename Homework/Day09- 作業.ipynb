{
 "cells": [
  {
   "cell_type": "code",
   "execution_count": 1,
   "metadata": {},
   "outputs": [],
   "source": [
    "import torch\n",
    "import torch.nn as nn\n",
    "import torchvision.models as models\n",
    "import torch.nn.functional as F\n",
    "import numpy as np\n",
    "import torch.optim as optim"
   ]
  },
  {
   "cell_type": "markdown",
   "metadata": {},
   "source": [
    "### 搭建模型"
   ]
  },
  {
   "cell_type": "code",
   "execution_count": 2,
   "metadata": {},
   "outputs": [],
   "source": [
    "class LinearBNAC(nn.Module):\n",
    "    def __init__(self, in_channels, out_channels, bias=True, dropout=0.3, is_output=False):\n",
    "        super(LinearBNAC, self).__init__()\n",
    "        if is_output and out_channels==1:\n",
    "            self.linear = nn.Sequential(\n",
    "                nn.Linear(in_channels, out_channels, bias=bias),\n",
    "                nn.Sigmoid()\n",
    "            )\n",
    "        elif is_output:\n",
    "            self.linear = nn.Sequential(\n",
    "                nn.Linear(in_channels, out_channels, bias=bias),\n",
    "                nn.Softmax(dim=1)\n",
    "            )   \n",
    "        else:\n",
    "            self.linear = nn.Sequential(\n",
    "                nn.Linear(in_channels, out_channels, bias=bias),\n",
    "                nn.Dropout(dropout),\n",
    "                nn.BatchNorm1d(out_channels),\n",
    "                nn.LeakyReLU(inplace=True)\n",
    "            )\n",
    "            \n",
    "    def forward(self, x):\n",
    "        out=self.linear(x)\n",
    "        return out"
   ]
  },
  {
   "cell_type": "code",
   "execution_count": 3,
   "metadata": {},
   "outputs": [],
   "source": [
    "class Model(nn.Module):\n",
    "    def __init__(self, input_dimention, output_classes=1):\n",
    "        super(Model, self).__init__()\n",
    "        self.layer1 = LinearBNAC(input_dimention, 128)\n",
    "        self.layer2 = LinearBNAC(128, 64)\n",
    "        self.layer3 = LinearBNAC(64, 32)\n",
    "        self.output = LinearBNAC(32, output_classes, is_output=True)\n",
    "    def forward(self, x):\n",
    "        x = self.layer1(x)\n",
    "        x = self.layer2(x)\n",
    "        x = self.layer3(x)\n",
    "        x = self.output(x)\n",
    "        return x \n",
    "        "
   ]
  },
  {
   "cell_type": "markdown",
   "metadata": {},
   "source": [
    "### 準備輸入資料、優化器、標籤資料、模型輸出"
   ]
  },
  {
   "cell_type": "code",
   "execution_count": 5,
   "metadata": {},
   "outputs": [],
   "source": [
    "model = Model(input_dimention=256,output_classes=10)\n",
    "optimizer = optim.Adam(model.parameters(), lr = 1e-3, weight_decay=1e-3)"
   ]
  },
  {
   "cell_type": "code",
   "execution_count": 6,
   "metadata": {},
   "outputs": [],
   "source": [
    "batch_size = 4\n",
    "input_features = 256\n",
    "dummy_input = torch.randn(batch_size, input_features,)\n",
    "\n",
    "#target = torch.empty(4, dtype=torch.float).random_(10)\n",
    "target = torch.tensor([9., 5., 4., 4.], dtype=torch.long)"
   ]
  },
  {
   "cell_type": "code",
   "execution_count": 7,
   "metadata": {},
   "outputs": [
    {
     "name": "stdout",
     "output_type": "stream",
     "text": [
      "tensor([[0.0700, 0.0913, 0.2435, 0.0392, 0.1084, 0.0181, 0.1711, 0.0842, 0.0649,\n",
      "         0.1094],\n",
      "        [0.0940, 0.1004, 0.0740, 0.1349, 0.0945, 0.1279, 0.1506, 0.0537, 0.0792,\n",
      "         0.0909],\n",
      "        [0.0723, 0.1930, 0.0416, 0.1084, 0.0472, 0.0427, 0.1407, 0.1779, 0.0883,\n",
      "         0.0878],\n",
      "        [0.0553, 0.0794, 0.1107, 0.1053, 0.2255, 0.0489, 0.1332, 0.0820, 0.0677,\n",
      "         0.0921]], grad_fn=<SoftmaxBackward>)\n"
     ]
    }
   ],
   "source": [
    "output = model(dummy_input)\n",
    "print(output)"
   ]
  },
  {
   "cell_type": "markdown",
   "metadata": {},
   "source": [
    "### 計算 CrossEntropy Loss\n",
    "* 請注意哪一個 Loss最適合：我們已經使用 softmax\n",
    "* 因為我們有使用dropout，並隨機產生dummy_input，所以各為學員得到的值會與解答不同，然而步驟原理需要相同"
   ]
  },
  {
   "cell_type": "code",
   "execution_count": 8,
   "metadata": {},
   "outputs": [],
   "source": [
    "from torch.nn import NLLLoss, LogSoftmax, CrossEntropyLoss"
   ]
  },
  {
   "cell_type": "code",
   "execution_count": 9,
   "metadata": {},
   "outputs": [],
   "source": [
    "criterion = NLLLoss()"
   ]
  },
  {
   "cell_type": "code",
   "execution_count": 10,
   "metadata": {},
   "outputs": [],
   "source": [
    "loss = criterion(torch.log(output), target)"
   ]
  },
  {
   "cell_type": "markdown",
   "metadata": {},
   "source": [
    "### 完成back propagation並更新梯度"
   ]
  },
  {
   "cell_type": "code",
   "execution_count": 11,
   "metadata": {},
   "outputs": [],
   "source": [
    "loss.backward()"
   ]
  },
  {
   "cell_type": "code",
   "execution_count": 12,
   "metadata": {},
   "outputs": [
    {
     "name": "stdout",
     "output_type": "stream",
     "text": [
      "weight : Parameter containing:\n",
      "tensor([[-0.0266, -0.0585,  0.0266,  ..., -0.0512, -0.0498,  0.0245],\n",
      "        [-0.0423, -0.0327,  0.0356,  ...,  0.0135, -0.0549, -0.0488],\n",
      "        [ 0.0029,  0.0024,  0.0227,  ...,  0.0230, -0.0213, -0.0035],\n",
      "        ...,\n",
      "        [-0.0055,  0.0607,  0.0456,  ...,  0.0551, -0.0043, -0.0472],\n",
      "        [-0.0120,  0.0305,  0.0053,  ..., -0.0142, -0.0155, -0.0261],\n",
      "        [-0.0548,  0.0059, -0.0229,  ...,  0.0181,  0.0357, -0.0591]],\n",
      "       requires_grad=True)\n",
      "\n",
      "\n",
      "grad : tensor([[ 1.3785e-03,  3.4739e-03,  1.1290e-02,  ..., -2.1689e-03,\n",
      "          4.4383e-03,  2.0131e-03],\n",
      "        [-2.6433e-06,  2.0694e-06,  6.1515e-06,  ..., -7.9117e-07,\n",
      "         -1.0465e-06,  1.6811e-07],\n",
      "        [-2.3271e-03,  2.5678e-03, -2.1956e-03,  ..., -1.6325e-03,\n",
      "          1.0487e-03, -5.1683e-03],\n",
      "        ...,\n",
      "        [ 2.4344e-04, -1.9059e-04, -5.6654e-04,  ...,  7.2865e-05,\n",
      "          9.6378e-05, -1.5482e-05],\n",
      "        [ 1.7085e-02, -2.8170e-03, -9.7140e-03,  ..., -4.2493e-03,\n",
      "          2.1459e-02, -3.8736e-03],\n",
      "        [ 3.1603e-02, -3.4969e-02,  3.3065e-02,  ..., -4.6594e-03,\n",
      "          2.9208e-02,  2.4403e-02]])\n"
     ]
    }
   ],
   "source": [
    "print('weight : {}'.format(model.layer1.linear[0].weight))\n",
    "print('\\n')\n",
    "print('grad : {}'.format(model.layer1.linear[0].weight.grad))"
   ]
  },
  {
   "cell_type": "code",
   "execution_count": 13,
   "metadata": {},
   "outputs": [],
   "source": [
    "optimizer.step()"
   ]
  },
  {
   "cell_type": "code",
   "execution_count": 14,
   "metadata": {},
   "outputs": [
    {
     "name": "stdout",
     "output_type": "stream",
     "text": [
      "weight : Parameter containing:\n",
      "tensor([[-0.0276, -0.0595,  0.0256,  ..., -0.0502, -0.0508,  0.0235],\n",
      "        [-0.0413, -0.0317,  0.0346,  ...,  0.0125, -0.0539, -0.0478],\n",
      "        [ 0.0039,  0.0014,  0.0237,  ...,  0.0240, -0.0223, -0.0025],\n",
      "        ...,\n",
      "        [-0.0065,  0.0617,  0.0466,  ...,  0.0541, -0.0053, -0.0462],\n",
      "        [-0.0130,  0.0315,  0.0063,  ..., -0.0132, -0.0165, -0.0251],\n",
      "        [-0.0558,  0.0069, -0.0239,  ...,  0.0191,  0.0347, -0.0601]],\n",
      "       requires_grad=True)\n",
      "\n",
      "\n",
      "grad : tensor([[ 1.3785e-03,  3.4739e-03,  1.1290e-02,  ..., -2.1689e-03,\n",
      "          4.4383e-03,  2.0131e-03],\n",
      "        [-2.6433e-06,  2.0694e-06,  6.1515e-06,  ..., -7.9117e-07,\n",
      "         -1.0465e-06,  1.6811e-07],\n",
      "        [-2.3271e-03,  2.5678e-03, -2.1956e-03,  ..., -1.6325e-03,\n",
      "          1.0487e-03, -5.1683e-03],\n",
      "        ...,\n",
      "        [ 2.4344e-04, -1.9059e-04, -5.6654e-04,  ...,  7.2865e-05,\n",
      "          9.6378e-05, -1.5482e-05],\n",
      "        [ 1.7085e-02, -2.8170e-03, -9.7140e-03,  ..., -4.2493e-03,\n",
      "          2.1459e-02, -3.8736e-03],\n",
      "        [ 3.1603e-02, -3.4969e-02,  3.3065e-02,  ..., -4.6594e-03,\n",
      "          2.9208e-02,  2.4403e-02]])\n"
     ]
    }
   ],
   "source": [
    "print('weight : {}'.format(model.layer1.linear[0].weight))\n",
    "print('\\n')\n",
    "print('grad : {}'.format(model.layer1.linear[0].weight.grad))"
   ]
  },
  {
   "cell_type": "markdown",
   "metadata": {},
   "source": [
    "### 清空 gradient"
   ]
  },
  {
   "cell_type": "code",
   "execution_count": 15,
   "metadata": {},
   "outputs": [],
   "source": [
    "optimizer.zero_grad()"
   ]
  },
  {
   "cell_type": "code",
   "execution_count": 16,
   "metadata": {},
   "outputs": [
    {
     "name": "stdout",
     "output_type": "stream",
     "text": [
      "weight : Parameter containing:\n",
      "tensor([[-0.0276, -0.0595,  0.0256,  ..., -0.0502, -0.0508,  0.0235],\n",
      "        [-0.0413, -0.0317,  0.0346,  ...,  0.0125, -0.0539, -0.0478],\n",
      "        [ 0.0039,  0.0014,  0.0237,  ...,  0.0240, -0.0223, -0.0025],\n",
      "        ...,\n",
      "        [-0.0065,  0.0617,  0.0466,  ...,  0.0541, -0.0053, -0.0462],\n",
      "        [-0.0130,  0.0315,  0.0063,  ..., -0.0132, -0.0165, -0.0251],\n",
      "        [-0.0558,  0.0069, -0.0239,  ...,  0.0191,  0.0347, -0.0601]],\n",
      "       requires_grad=True)\n",
      "\n",
      "\n",
      "grad : tensor([[0., 0., 0.,  ..., 0., 0., 0.],\n",
      "        [0., 0., 0.,  ..., 0., 0., 0.],\n",
      "        [0., 0., 0.,  ..., 0., 0., 0.],\n",
      "        ...,\n",
      "        [0., 0., 0.,  ..., 0., 0., 0.],\n",
      "        [0., 0., 0.,  ..., 0., 0., 0.],\n",
      "        [0., 0., 0.,  ..., 0., 0., 0.]])\n"
     ]
    }
   ],
   "source": [
    "print('weight : {}'.format(model.layer1.linear[0].weight))\n",
    "print('\\n')\n",
    "print('grad : {}'.format(model.layer1.linear[0].weight.grad))"
   ]
  }
 ],
 "metadata": {
  "kernelspec": {
   "display_name": "Python 3",
   "language": "python",
   "name": "python3"
  },
  "language_info": {
   "codemirror_mode": {
    "name": "ipython",
    "version": 3
   },
   "file_extension": ".py",
   "mimetype": "text/x-python",
   "name": "python",
   "nbconvert_exporter": "python",
   "pygments_lexer": "ipython3",
   "version": "3.7.10"
  }
 },
 "nbformat": 4,
 "nbformat_minor": 4
}
