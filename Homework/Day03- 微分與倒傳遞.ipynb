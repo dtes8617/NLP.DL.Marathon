{
 "cells": [
  {
   "cell_type": "code",
   "execution_count": 1,
   "metadata": {},
   "outputs": [],
   "source": [
    "import torch"
   ]
  },
  {
   "cell_type": "code",
   "execution_count": 2,
   "metadata": {},
   "outputs": [],
   "source": [
    "#創建tensor\n",
    "x = torch.rand((2,2))\n",
    "y = torch.rand((2,2))\n",
    "z = torch.rand((2,2), requires_grad=True)\n",
    "a = x + y\n",
    "b = a + z"
   ]
  },
  {
   "cell_type": "code",
   "execution_count": 3,
   "metadata": {},
   "outputs": [
    {
     "name": "stdout",
     "output_type": "stream",
     "text": [
      "x: False, y: False, z: True\n",
      "a: False, b: True\n"
     ]
    }
   ],
   "source": [
    "#查看requires_grad\n",
    "print(f'x: {x.requires_grad}, y: {y.requires_grad}, z: {z.requires_grad}')\n",
    "print(f'a: {a.requires_grad}, b: {b.requires_grad}')"
   ]
  },
  {
   "cell_type": "code",
   "execution_count": 4,
   "metadata": {
    "scrolled": true
   },
   "outputs": [
    {
     "name": "stdout",
     "output_type": "stream",
     "text": [
      "x: None, y: None, z: None\n",
      "a: None, b: <AddBackward0 object at 0x000001A2ED0F7A48>\n"
     ]
    }
   ],
   "source": [
    "#查看grad_fn\n",
    "print(f'x: {x.grad_fn}, y: {y.grad_fn}, z: {z.grad_fn}')\n",
    "print(f'a: {a.grad_fn}, b: {b.grad_fn}')"
   ]
  },
  {
   "cell_type": "markdown",
   "metadata": {},
   "source": [
    "### 使用較複雜一點的計算圖來計算梯度(微分)"
   ]
  },
  {
   "cell_type": "code",
   "execution_count": 5,
   "metadata": {},
   "outputs": [
    {
     "data": {
      "text/plain": [
       "tensor([[1., 1.],\n",
       "        [1., 1.]], requires_grad=True)"
      ]
     },
     "execution_count": 5,
     "metadata": {},
     "output_type": "execute_result"
    }
   ],
   "source": [
    "#創建tensor\n",
    "x = torch.ones((2,2), requires_grad=True)\n",
    "x"
   ]
  },
  {
   "cell_type": "code",
   "execution_count": 6,
   "metadata": {},
   "outputs": [
    {
     "data": {
      "text/plain": [
       "(tensor([[3., 3.],\n",
       "         [3., 3.]], grad_fn=<AddBackward0>),\n",
       " True)"
      ]
     },
     "execution_count": 6,
     "metadata": {},
     "output_type": "execute_result"
    }
   ],
   "source": [
    "#以加法創建新tensor\n",
    "y = x + 2\n",
    "y, y.requires_grad"
   ]
  },
  {
   "cell_type": "code",
   "execution_count": 7,
   "metadata": {},
   "outputs": [
    {
     "name": "stdout",
     "output_type": "stream",
     "text": [
      "tensor([[27., 27.],\n",
      "        [27., 27.]], grad_fn=<MulBackward0>)\n",
      "tensor(27., grad_fn=<MeanBackward0>)\n"
     ]
    }
   ],
   "source": [
    "z = y*y*3\n",
    "out = z.mean()\n",
    "print(z)\n",
    "print(out)"
   ]
  },
  {
   "cell_type": "code",
   "execution_count": 8,
   "metadata": {},
   "outputs": [
    {
     "name": "stdout",
     "output_type": "stream",
     "text": [
      "None\n",
      "<AddBackward0 object at 0x000001A2ED0F2D08>\n",
      "<MulBackward0 object at 0x000001A2ED0F2788>\n",
      "<MeanBackward0 object at 0x000001A2ED0F2D08>\n"
     ]
    }
   ],
   "source": [
    "print(x.grad_fn)\n",
    "print(y.grad_fn)\n",
    "print(z.grad_fn)\n",
    "print(out.grad_fn)"
   ]
  },
  {
   "cell_type": "markdown",
   "metadata": {},
   "source": [
    "在這邊我們簡單運算一下，在對out進行針對x微分後的直應該要是多少\n",
    "\n",
    "$$\n",
    "\\begin{aligned}\n",
    "\\frac{\\partial{out}}{\\partial{x_i}} &= \\frac{\\partial{\\frac{1}{4}\\sum_{i}z_i}}{\\partial{x_i}} \\\\\n",
    "                                  &= \\frac{\\partial{\\frac{1}{4}\\sum_{i}z_i}}{\\partial{x_i}} \\\\\n",
    "                                  &= \\frac{\\partial{\\frac{1}{4}3(x_i+2)^2}}{\\partial{x_i}} \\\\\n",
    "                                  &= \\frac{3}{2}(x_i+2), \\ where\\ x_i=1 \\\\\n",
    "\\frac{\\partial{out}}{\\partial{x_i}} &= \\frac{3}{2}(1+2) = 4.5\n",
    "\\end{aligned}\n",
    "$$"
   ]
  },
  {
   "cell_type": "code",
   "execution_count": 9,
   "metadata": {},
   "outputs": [],
   "source": [
    "#計算微分 \n",
    "out.backward()"
   ]
  },
  {
   "cell_type": "code",
   "execution_count": 10,
   "metadata": {},
   "outputs": [
    {
     "data": {
      "text/plain": [
       "tensor([[4.5000, 4.5000],\n",
       "        [4.5000, 4.5000]])"
      ]
     },
     "execution_count": 10,
     "metadata": {},
     "output_type": "execute_result"
    }
   ],
   "source": [
    "x.grad"
   ]
  },
  {
   "cell_type": "markdown",
   "metadata": {},
   "source": [
    "不紀錄倒傳遞"
   ]
  },
  {
   "cell_type": "code",
   "execution_count": 11,
   "metadata": {},
   "outputs": [
    {
     "name": "stdout",
     "output_type": "stream",
     "text": [
      "False False\n",
      "None\n"
     ]
    }
   ],
   "source": [
    "# requires_grad設定為False\n",
    "\n",
    "a = torch.randn(2, 2, requires_grad=False) \n",
    "a = ((a * 3) / (a - 1))\n",
    "b = (a * a).sum()\n",
    "print(b.requires_grad, a.requires_grad)\n",
    "print(b.grad_fn)"
   ]
  },
  {
   "cell_type": "code",
   "execution_count": 12,
   "metadata": {},
   "outputs": [
    {
     "name": "stdout",
     "output_type": "stream",
     "text": [
      "False None\n"
     ]
    }
   ],
   "source": [
    "# 使用torch.no_grad()\n",
    "a = torch.randn(2, 2, requires_grad=True)\n",
    "a = ((a * 3) / (a - 1))\n",
    "with torch.no_grad():\n",
    "    b = (a * a).sum()\n",
    "\n",
    "print(b.requires_grad, b.grad_fn)"
   ]
  }
 ],
 "metadata": {
  "kernelspec": {
   "display_name": "Python 3",
   "language": "python",
   "name": "python3"
  },
  "language_info": {
   "codemirror_mode": {
    "name": "ipython",
    "version": 3
   },
   "file_extension": ".py",
   "mimetype": "text/x-python",
   "name": "python",
   "nbconvert_exporter": "python",
   "pygments_lexer": "ipython3",
   "version": "3.7.10"
  }
 },
 "nbformat": 4,
 "nbformat_minor": 4
}
