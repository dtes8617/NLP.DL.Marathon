{
 "cells": [
  {
   "cell_type": "code",
   "execution_count": 1,
   "metadata": {},
   "outputs": [],
   "source": [
    "import torch\n",
    "import torch.nn as nn\n",
    "import torchvision.models as models\n",
    "import torch.nn.functional as F\n",
    "import numpy as np\n",
    "from sklearn.datasets import load_iris\n",
    "from sklearn.model_selection import train_test_split\n",
    "from sklearn import metrics\n",
    "from sklearn.metrics import classification_report"
   ]
  },
  {
   "cell_type": "code",
   "execution_count": 2,
   "metadata": {},
   "outputs": [
    {
     "name": "stdout",
     "output_type": "stream",
     "text": [
      "訓練資料 : (150, 4)\n",
      "標籤 : [0 1 2]\n"
     ]
    }
   ],
   "source": [
    "iris = load_iris()\n",
    "x = iris['data']\n",
    "y = iris['target'] \n",
    "print('訓練資料 : {}'.format(x.shape))\n",
    "print('標籤 : {}'.format(np.unique(y)))\n",
    "\n",
    "## 拆成訓練與測試集\n",
    "x_train, x_test, y_train, y_test = train_test_split(x, y, random_state=10)"
   ]
  },
  {
   "cell_type": "markdown",
   "metadata": {},
   "source": [
    "### 判斷是否有GPU可以使用"
   ]
  },
  {
   "cell_type": "code",
   "execution_count": 3,
   "metadata": {},
   "outputs": [],
   "source": [
    "device = 'cuda' if torch.cuda.is_available() else 'cpu'"
   ]
  },
  {
   "cell_type": "markdown",
   "metadata": {},
   "source": [
    "pip install -U scikit-learn### 模型搭建"
   ]
  },
  {
   "cell_type": "code",
   "execution_count": 4,
   "metadata": {},
   "outputs": [],
   "source": [
    "class LinearBNAC(nn.Module):\n",
    "    def __init__(self, in_channels, out_channels, bias=True, dropout=0.3, is_output=False):\n",
    "        super(LinearBNAC, self).__init__()\n",
    "        if is_output:\n",
    "            self.linear = nn.Linear(in_channels, out_channels, bias=bias)\n",
    "        else:\n",
    "            self.linear = nn.Sequential(\n",
    "                nn.Linear(in_channels, out_channels, bias=bias),\n",
    "                nn.BatchNorm1d(out_channels),\n",
    "                nn.LeakyReLU(inplace=True),\n",
    "                nn.Dropout(dropout),\n",
    "            )\n",
    "            \n",
    "    def forward(self, x):\n",
    "        out=self.linear(x)\n",
    "        return out"
   ]
  },
  {
   "cell_type": "code",
   "execution_count": 5,
   "metadata": {},
   "outputs": [],
   "source": [
    "class Model(nn.Module):\n",
    "    def __init__(self, input_dimention, output_classes=1):\n",
    "        super(Model, self).__init__()\n",
    "        self.layer1 = LinearBNAC(input_dimention, 16)\n",
    "        self.layer2 = LinearBNAC(16, 32)\n",
    "        self.output = LinearBNAC(32, output_classes, is_output=True)\n",
    "    def forward(self, x):\n",
    "        x = self.layer1(x)\n",
    "        x = self.layer2(x)\n",
    "        x = self.output(x)\n",
    "        return x  \n",
    "        "
   ]
  },
  {
   "cell_type": "markdown",
   "metadata": {},
   "source": [
    "### 建立模型"
   ]
  },
  {
   "cell_type": "markdown",
   "metadata": {},
   "source": [
    "* to(device) 代表轉成 cpu or gpu 模式 (gpu 模式下稱為 cuda)"
   ]
  },
  {
   "cell_type": "code",
   "execution_count": 6,
   "metadata": {},
   "outputs": [],
   "source": [
    "model = Model(input_dimention=4,output_classes=3).to(device)"
   ]
  },
  {
   "cell_type": "code",
   "execution_count": 7,
   "metadata": {},
   "outputs": [
    {
     "name": "stdout",
     "output_type": "stream",
     "text": [
      "layer1.linear.0.weight torch.Size([16, 4])\n",
      "layer1.linear.0.bias torch.Size([16])\n",
      "layer1.linear.1.weight torch.Size([16])\n",
      "layer1.linear.1.bias torch.Size([16])\n",
      "layer2.linear.0.weight torch.Size([32, 16])\n",
      "layer2.linear.0.bias torch.Size([32])\n",
      "layer2.linear.1.weight torch.Size([32])\n",
      "layer2.linear.1.bias torch.Size([32])\n",
      "output.linear.weight torch.Size([3, 32])\n",
      "output.linear.bias torch.Size([3])\n"
     ]
    }
   ],
   "source": [
    "for name,_ in model.named_parameters():\n",
    "    print(name, _.shape)"
   ]
  },
  {
   "cell_type": "code",
   "execution_count": 8,
   "metadata": {},
   "outputs": [],
   "source": [
    "batch_size = 4\n",
    "input_features = 4\n",
    "dummy_input = torch.randn(batch_size, input_features).to(device)\n"
   ]
  },
  {
   "cell_type": "code",
   "execution_count": 9,
   "metadata": {},
   "outputs": [
    {
     "name": "stdout",
     "output_type": "stream",
     "text": [
      "tensor([[ 0.1921,  0.7305,  0.5264],\n",
      "        [ 0.2942,  0.6647,  0.0222],\n",
      "        [ 0.2481,  0.6746, -0.0258],\n",
      "        [ 0.4565,  0.4620,  0.6997]], device='cuda:0',\n",
      "       grad_fn=<AddmmBackward0>)\n"
     ]
    }
   ],
   "source": [
    "output = model(dummy_input)\n",
    "print(output)"
   ]
  },
  {
   "cell_type": "markdown",
   "metadata": {},
   "source": [
    "## Loss"
   ]
  },
  {
   "cell_type": "markdown",
   "metadata": {},
   "source": [
    "#### classification"
   ]
  },
  {
   "cell_type": "code",
   "execution_count": 10,
   "metadata": {},
   "outputs": [],
   "source": [
    "from torch.nn import NLLLoss, LogSoftmax, CrossEntropyLoss"
   ]
  },
  {
   "cell_type": "code",
   "execution_count": 11,
   "metadata": {},
   "outputs": [],
   "source": [
    "## CrossEntropyLoss = LogSoftmax + NLLLoss"
   ]
  },
  {
   "cell_type": "markdown",
   "metadata": {},
   "source": [
    "* CrossEntropyLoss"
   ]
  },
  {
   "cell_type": "code",
   "execution_count": 12,
   "metadata": {},
   "outputs": [],
   "source": [
    "criterion = CrossEntropyLoss()"
   ]
  },
  {
   "cell_type": "markdown",
   "metadata": {},
   "source": [
    "## optimizer"
   ]
  },
  {
   "cell_type": "code",
   "execution_count": 13,
   "metadata": {},
   "outputs": [],
   "source": [
    "import torch.optim as optim"
   ]
  },
  {
   "cell_type": "markdown",
   "metadata": {},
   "source": [
    "* params : iterable of parameters\n",
    "* lr : learning rate\n",
    "* weight_decay : (L2) Regularization (正則化) "
   ]
  },
  {
   "cell_type": "code",
   "execution_count": 14,
   "metadata": {},
   "outputs": [],
   "source": [
    "optimizer = optim.Adam(params=model.parameters(), lr=1e-3)"
   ]
  },
  {
   "cell_type": "markdown",
   "metadata": {},
   "source": [
    "### 訓練前準備"
   ]
  },
  {
   "cell_type": "code",
   "execution_count": 15,
   "metadata": {},
   "outputs": [],
   "source": [
    "x_train = torch.tensor(x_train, dtype=torch.float32).to(device)\n",
    "x_test = torch.tensor(x_test, dtype=torch.float32).to(device)\n",
    "\n",
    "y_train_numpy = y_train.copy()\n",
    "y_test_numpy = y_test.copy()\n",
    "\n",
    "y_train = torch.tensor(y_train, dtype=torch.long).to(device)\n",
    "y_test = torch.tensor(y_test, dtype=torch.long).to(device)"
   ]
  },
  {
   "cell_type": "code",
   "execution_count": 16,
   "metadata": {},
   "outputs": [],
   "source": [
    "batch_size = 4\n",
    "epochs = 400\n",
    "whole_batch = np.linspace(0, len(x_train), len(x_train)//batch_size+1).astype(np.uint8)[:-1]\n",
    "softmax = nn.Softmax(-1)\n",
    "\n",
    "index = np.array([x for x in range(len(x_train))])"
   ]
  },
  {
   "cell_type": "code",
   "execution_count": 17,
   "metadata": {},
   "outputs": [
    {
     "data": {
      "text/plain": [
       "array([  0,   4,   8,  12,  16,  20,  24,  28,  32,  36,  40,  44,  48,\n",
       "        52,  56,  60,  64,  68,  72,  76,  80,  84,  88,  92,  96, 100,\n",
       "       104, 108], dtype=uint8)"
      ]
     },
     "execution_count": 17,
     "metadata": {},
     "output_type": "execute_result"
    }
   ],
   "source": [
    "whole_batch"
   ]
  },
  {
   "cell_type": "markdown",
   "metadata": {},
   "source": [
    "### 訓練"
   ]
  },
  {
   "cell_type": "code",
   "execution_count": 18,
   "metadata": {},
   "outputs": [
    {
     "name": "stdout",
     "output_type": "stream",
     "text": [
      "epoch : 0\n",
      "目前 train loss : 1.18\n",
      "目前 test loss : 1.00\n",
      "目前 test accuracy : 0.68\n",
      "epoch : 50\n",
      "目前 train loss : 0.65\n",
      "目前 test loss : 0.35\n",
      "目前 test accuracy : 0.95\n",
      "epoch : 100\n",
      "目前 train loss : 0.55\n",
      "目前 test loss : 0.32\n",
      "目前 test accuracy : 0.92\n",
      "epoch : 150\n",
      "目前 train loss : 0.66\n",
      "目前 test loss : 0.31\n",
      "目前 test accuracy : 0.97\n",
      "epoch : 200\n",
      "目前 train loss : 0.52\n",
      "目前 test loss : 0.30\n",
      "目前 test accuracy : 0.97\n",
      "epoch : 250\n",
      "目前 train loss : 0.54\n",
      "目前 test loss : 0.29\n",
      "目前 test accuracy : 0.97\n",
      "epoch : 300\n",
      "目前 train loss : 0.50\n",
      "目前 test loss : 0.28\n",
      "目前 test accuracy : 0.95\n",
      "epoch : 350\n",
      "目前 train loss : 0.40\n",
      "目前 test loss : 0.26\n",
      "目前 test accuracy : 0.97\n"
     ]
    }
   ],
   "source": [
    "train_loss_ = []\n",
    "test_loss_ = []\n",
    "train_accuracy_ = []\n",
    "test_accuracy_ = []\n",
    "for epoch in range(epochs):\n",
    "    \n",
    "    np.random.shuffle(index)\n",
    "    x_train = x_train[index]\n",
    "    y_train = y_train[index]\n",
    "\n",
    "    loss_keeper = []\n",
    "    model.train()\n",
    "    \n",
    "    for batch in whole_batch:\n",
    "        x = x_train[batch : batch+batch_size,:]\n",
    "        y = y_train[batch : batch+batch_size]\n",
    "        output = model(x)\n",
    "        loss_train = criterion(output, y)\n",
    "        loss_train.backward()\n",
    "        optimizer.step()\n",
    "        optimizer.zero_grad()\n",
    "        \n",
    "        loss_train = loss_train.detach().cpu().item()\n",
    "        loss_keeper.append(loss_train)    \n",
    "    \n",
    "    model.eval()\n",
    "    output = model(x_test)\n",
    "    prediction = softmax(output)\n",
    "    prediction = torch.argmax(prediction,1).detach().cpu().numpy()\n",
    "    test_accuracy = metrics.accuracy_score(prediction, y_test_numpy)\n",
    "    loss_test = criterion(output, y_test)\n",
    "    loss_test = loss_test.detach().cpu().item()\n",
    "    train_loss_.append(np.mean(loss_keeper))\n",
    "    test_loss_.append(loss_test)\n",
    "    \n",
    "    if epoch % 50 == 0:\n",
    "        print('epoch : {}'.format(epoch))\n",
    "        print('目前 train loss : {:.2f}'.format(np.mean(loss_keeper)))\n",
    "        print('目前 test loss : {:.2f}'.format(loss_test))\n",
    "        print('目前 test accuracy : {:.2f}'.format(test_accuracy))\n"
   ]
  },
  {
   "cell_type": "code",
   "execution_count": 19,
   "metadata": {},
   "outputs": [
    {
     "name": "stdout",
     "output_type": "stream",
     "text": [
      "              precision    recall  f1-score   support\n",
      "\n",
      "           0       1.00      1.00      1.00        11\n",
      "           1       1.00      0.94      0.97        16\n",
      "           2       0.92      1.00      0.96        11\n",
      "\n",
      "    accuracy                           0.97        38\n",
      "   macro avg       0.97      0.98      0.97        38\n",
      "weighted avg       0.98      0.97      0.97        38\n",
      "\n"
     ]
    }
   ],
   "source": [
    "print(classification_report(prediction, y_test_numpy))"
   ]
  },
  {
   "cell_type": "code",
   "execution_count": 20,
   "metadata": {
    "scrolled": true,
    "tags": []
   },
   "outputs": [
    {
     "data": {
      "text/plain": [
       "[1.000214695930481,\n",
       " 0.8949901461601257,\n",
       " 0.8055332899093628,\n",
       " 0.7253265976905823,\n",
       " 0.7321918606758118,\n",
       " 0.6756339073181152,\n",
       " 0.6307017803192139,\n",
       " 0.5657270550727844,\n",
       " 0.5145283937454224,\n",
       " 0.5480729937553406,\n",
       " 0.5430552363395691,\n",
       " 0.5318582057952881,\n",
       " 0.5320023894309998,\n",
       " 0.5365479588508606,\n",
       " 0.423764169216156,\n",
       " 0.46884462237358093,\n",
       " 0.5002217292785645,\n",
       " 0.4688480794429779,\n",
       " 0.42682603001594543,\n",
       " 0.47713014483451843,\n",
       " 0.4675220549106598,\n",
       " 0.4612196385860443,\n",
       " 0.4138588607311249,\n",
       " 0.4529453217983246,\n",
       " 0.39141035079956055,\n",
       " 0.39619114995002747,\n",
       " 0.40925970673561096,\n",
       " 0.4033237099647522,\n",
       " 0.3854587972164154,\n",
       " 0.4006079137325287,\n",
       " 0.4324541985988617,\n",
       " 0.3924792408943176,\n",
       " 0.3908998370170593,\n",
       " 0.37595489621162415,\n",
       " 0.363956481218338,\n",
       " 0.40815797448158264,\n",
       " 0.37875896692276,\n",
       " 0.38518276810646057,\n",
       " 0.3160701096057892,\n",
       " 0.3572828471660614,\n",
       " 0.37542924284935,\n",
       " 0.40227010846138,\n",
       " 0.36238089203834534,\n",
       " 0.3794156312942505,\n",
       " 0.3750012218952179,\n",
       " 0.36700794100761414,\n",
       " 0.35518693923950195,\n",
       " 0.3775205612182617,\n",
       " 0.3456379473209381,\n",
       " 0.36870747804641724,\n",
       " 0.3511967658996582,\n",
       " 0.35525283217430115,\n",
       " 0.3714672327041626,\n",
       " 0.36914145946502686,\n",
       " 0.38930413126945496,\n",
       " 0.362930029630661,\n",
       " 0.38970258831977844,\n",
       " 0.37048348784446716,\n",
       " 0.36560750007629395,\n",
       " 0.37216049432754517,\n",
       " 0.3766287863254547,\n",
       " 0.3785603940486908,\n",
       " 0.3708297908306122,\n",
       " 0.36298027634620667,\n",
       " 0.3697391450405121,\n",
       " 0.3539450764656067,\n",
       " 0.3673373758792877,\n",
       " 0.3586892783641815,\n",
       " 0.36063820123672485,\n",
       " 0.3671627342700958,\n",
       " 0.3693591058254242,\n",
       " 0.3642868101596832,\n",
       " 0.3577684462070465,\n",
       " 0.34946635365486145,\n",
       " 0.3460440933704376,\n",
       " 0.36780503392219543,\n",
       " 0.3463928699493408,\n",
       " 0.350088894367218,\n",
       " 0.3213612139225006,\n",
       " 0.36990201473236084,\n",
       " 0.3230113983154297,\n",
       " 0.3602994382381439,\n",
       " 0.3834197521209717,\n",
       " 0.34654122591018677,\n",
       " 0.34873440861701965,\n",
       " 0.3488748073577881,\n",
       " 0.3218398690223694,\n",
       " 0.33470356464385986,\n",
       " 0.3408735394477844,\n",
       " 0.3425430357456207,\n",
       " 0.3212781846523285,\n",
       " 0.3100326359272003,\n",
       " 0.3155275285243988,\n",
       " 0.3436806797981262,\n",
       " 0.356159508228302,\n",
       " 0.3564132750034332,\n",
       " 0.32901978492736816,\n",
       " 0.3172536790370941,\n",
       " 0.30605021119117737,\n",
       " 0.3002358376979828,\n",
       " 0.3225221335887909,\n",
       " 0.300106406211853,\n",
       " 0.31950148940086365,\n",
       " 0.34929871559143066,\n",
       " 0.3349500596523285,\n",
       " 0.3335074484348297,\n",
       " 0.3048076629638672,\n",
       " 0.292117714881897,\n",
       " 0.30789539217948914,\n",
       " 0.3313228189945221,\n",
       " 0.31738796830177307,\n",
       " 0.29235056042671204,\n",
       " 0.31726348400115967,\n",
       " 0.3105427324771881,\n",
       " 0.31916460394859314,\n",
       " 0.2905888855457306,\n",
       " 0.32978203892707825,\n",
       " 0.29831597208976746,\n",
       " 0.31374508142471313,\n",
       " 0.3100070059299469,\n",
       " 0.3140668570995331,\n",
       " 0.32826438546180725,\n",
       " 0.30105122923851013,\n",
       " 0.31882068514823914,\n",
       " 0.319001704454422,\n",
       " 0.2997932434082031,\n",
       " 0.2916553020477295,\n",
       " 0.2858993113040924,\n",
       " 0.30536791682243347,\n",
       " 0.31843385100364685,\n",
       " 0.2898385524749756,\n",
       " 0.2925751805305481,\n",
       " 0.3043454587459564,\n",
       " 0.30235451459884644,\n",
       " 0.2889268100261688,\n",
       " 0.32884928584098816,\n",
       " 0.2904672920703888,\n",
       " 0.30570825934410095,\n",
       " 0.32493677735328674,\n",
       " 0.29140305519104004,\n",
       " 0.31027746200561523,\n",
       " 0.279551237821579,\n",
       " 0.30980539321899414,\n",
       " 0.320059597492218,\n",
       " 0.3082095682621002,\n",
       " 0.3237802982330322,\n",
       " 0.304360032081604,\n",
       " 0.3202912509441376,\n",
       " 0.3182554841041565,\n",
       " 0.31733468174934387,\n",
       " 0.31218433380126953,\n",
       " 0.33791422843933105,\n",
       " 0.31651249527931213,\n",
       " 0.3357201814651489,\n",
       " 0.33023181557655334,\n",
       " 0.3209609091281891,\n",
       " 0.33249542117118835,\n",
       " 0.3059009909629822,\n",
       " 0.3310057520866394,\n",
       " 0.34071385860443115,\n",
       " 0.325603723526001,\n",
       " 0.2986179292201996,\n",
       " 0.32589682936668396,\n",
       " 0.33806395530700684,\n",
       " 0.33114001154899597,\n",
       " 0.28576746582984924,\n",
       " 0.3088800311088562,\n",
       " 0.29285871982574463,\n",
       " 0.3136287033557892,\n",
       " 0.3331965506076813,\n",
       " 0.3431139588356018,\n",
       " 0.3109726011753082,\n",
       " 0.3330138325691223,\n",
       " 0.31170254945755005,\n",
       " 0.3431284725666046,\n",
       " 0.3488229513168335,\n",
       " 0.3282780349254608,\n",
       " 0.290574312210083,\n",
       " 0.3391714096069336,\n",
       " 0.3578316569328308,\n",
       " 0.3303910791873932,\n",
       " 0.3161466121673584,\n",
       " 0.31186333298683167,\n",
       " 0.32594045996665955,\n",
       " 0.3316713869571686,\n",
       " 0.3166530132293701,\n",
       " 0.3440033197402954,\n",
       " 0.32082438468933105,\n",
       " 0.2961091995239258,\n",
       " 0.3173731863498688,\n",
       " 0.2645696997642517,\n",
       " 0.31101706624031067,\n",
       " 0.31791114807128906,\n",
       " 0.30152133107185364,\n",
       " 0.304394006729126,\n",
       " 0.31078067421913147,\n",
       " 0.317096471786499,\n",
       " 0.3223184645175934,\n",
       " 0.3218471109867096,\n",
       " 0.3266369700431824,\n",
       " 0.3045513927936554,\n",
       " 0.32033634185791016,\n",
       " 0.3151756525039673,\n",
       " 0.3229012191295624,\n",
       " 0.3368045687675476,\n",
       " 0.3206629455089569,\n",
       " 0.3137156665325165,\n",
       " 0.32129785418510437,\n",
       " 0.3006210923194885,\n",
       " 0.3210524320602417,\n",
       " 0.32962140440940857,\n",
       " 0.30724722146987915,\n",
       " 0.3237884044647217,\n",
       " 0.3093211352825165,\n",
       " 0.30182355642318726,\n",
       " 0.29912295937538147,\n",
       " 0.31858983635902405,\n",
       " 0.3014431595802307,\n",
       " 0.30881622433662415,\n",
       " 0.2972511649131775,\n",
       " 0.33689531683921814,\n",
       " 0.33065709471702576,\n",
       " 0.2990769147872925,\n",
       " 0.2758791744709015,\n",
       " 0.29074564576148987,\n",
       " 0.2885044813156128,\n",
       " 0.29465270042419434,\n",
       " 0.3002316653728485,\n",
       " 0.3084621727466583,\n",
       " 0.3176312744617462,\n",
       " 0.30830612778663635,\n",
       " 0.3438359498977661,\n",
       " 0.28300294280052185,\n",
       " 0.3091834783554077,\n",
       " 0.31023111939430237,\n",
       " 0.2861599624156952,\n",
       " 0.31120023131370544,\n",
       " 0.2768346667289734,\n",
       " 0.27737581729888916,\n",
       " 0.2759399116039276,\n",
       " 0.27298107743263245,\n",
       " 0.26904478669166565,\n",
       " 0.2622596025466919,\n",
       " 0.2657327950000763,\n",
       " 0.26581865549087524,\n",
       " 0.26515957713127136,\n",
       " 0.2886912226676941,\n",
       " 0.2876381576061249,\n",
       " 0.2834080457687378,\n",
       " 0.2853800654411316,\n",
       " 0.2932886481285095,\n",
       " 0.29376882314682007,\n",
       " 0.3000992238521576,\n",
       " 0.31331560015678406,\n",
       " 0.29015621542930603,\n",
       " 0.2976449728012085,\n",
       " 0.28681620955467224,\n",
       " 0.29408755898475647,\n",
       " 0.3006933927536011,\n",
       " 0.31440696120262146,\n",
       " 0.26754865050315857,\n",
       " 0.29490000009536743,\n",
       " 0.2788935601711273,\n",
       " 0.29440078139305115,\n",
       " 0.30448243021965027,\n",
       " 0.29079973697662354,\n",
       " 0.29014983773231506,\n",
       " 0.2929316461086273,\n",
       " 0.28660860657691956,\n",
       " 0.28204217553138733,\n",
       " 0.28558412194252014,\n",
       " 0.2736722230911255,\n",
       " 0.2740755081176758,\n",
       " 0.2729063928127289,\n",
       " 0.2932373583316803,\n",
       " 0.26866239309310913,\n",
       " 0.2748645842075348,\n",
       " 0.2728036940097809,\n",
       " 0.2648116648197174,\n",
       " 0.2723623216152191,\n",
       " 0.2707526683807373,\n",
       " 0.2906404733657837,\n",
       " 0.29706814885139465,\n",
       " 0.29563573002815247,\n",
       " 0.2919590473175049,\n",
       " 0.3116025924682617,\n",
       " 0.30891409516334534,\n",
       " 0.31037408113479614,\n",
       " 0.3283574879169464,\n",
       " 0.3059057593345642,\n",
       " 0.2924710810184479,\n",
       " 0.2998163104057312,\n",
       " 0.28092262148857117,\n",
       " 0.2880975008010864,\n",
       " 0.2907097041606903,\n",
       " 0.28423887491226196,\n",
       " 0.281240314245224,\n",
       " 0.26737189292907715,\n",
       " 0.27249228954315186,\n",
       " 0.26836469769477844,\n",
       " 0.2781888544559479,\n",
       " 0.27897143363952637,\n",
       " 0.2700900435447693,\n",
       " 0.2982480525970459,\n",
       " 0.26820746064186096,\n",
       " 0.2763221263885498,\n",
       " 0.28877201676368713,\n",
       " 0.2816336750984192,\n",
       " 0.27500271797180176,\n",
       " 0.2908613085746765,\n",
       " 0.2817489504814148,\n",
       " 0.26288726925849915,\n",
       " 0.2863766551017761,\n",
       " 0.2797688841819763,\n",
       " 0.28206977248191833,\n",
       " 0.2941838502883911,\n",
       " 0.28500041365623474,\n",
       " 0.27312710881233215,\n",
       " 0.26877015829086304,\n",
       " 0.27744603157043457,\n",
       " 0.27758458256721497,\n",
       " 0.2902361750602722,\n",
       " 0.2898200452327728,\n",
       " 0.27412688732147217,\n",
       " 0.28935444355010986,\n",
       " 0.2795717716217041,\n",
       " 0.29558369517326355,\n",
       " 0.2666994035243988,\n",
       " 0.2644464671611786,\n",
       " 0.2749098837375641,\n",
       " 0.28870049118995667,\n",
       " 0.28832224011421204,\n",
       " 0.28856632113456726,\n",
       " 0.27742618322372437,\n",
       " 0.2920592427253723,\n",
       " 0.282888799905777,\n",
       " 0.265882670879364,\n",
       " 0.25785842537879944,\n",
       " 0.29720786213874817,\n",
       " 0.3065859079360962,\n",
       " 0.2809772491455078,\n",
       " 0.2611011862754822,\n",
       " 0.2840404510498047,\n",
       " 0.2879732847213745,\n",
       " 0.26384496688842773,\n",
       " 0.2843998968601227,\n",
       " 0.2706119418144226,\n",
       " 0.2880799472332001,\n",
       " 0.25169312953948975,\n",
       " 0.25974011421203613,\n",
       " 0.26486706733703613,\n",
       " 0.25903522968292236,\n",
       " 0.2682799994945526,\n",
       " 0.26045462489128113,\n",
       " 0.2748361825942993,\n",
       " 0.2618437707424164,\n",
       " 0.2504640221595764,\n",
       " 0.25623807311058044,\n",
       " 0.26913222670555115,\n",
       " 0.2506016790866852,\n",
       " 0.24784117937088013,\n",
       " 0.26164403557777405,\n",
       " 0.26477694511413574,\n",
       " 0.28085586428642273,\n",
       " 0.31767916679382324,\n",
       " 0.2667712867259979,\n",
       " 0.2747246026992798,\n",
       " 0.2735768258571625,\n",
       " 0.2691889703273773,\n",
       " 0.28459176421165466,\n",
       " 0.2517848014831543,\n",
       " 0.24863995611667633,\n",
       " 0.26224106550216675,\n",
       " 0.2522765100002289,\n",
       " 0.24959784746170044,\n",
       " 0.2647281885147095,\n",
       " 0.2639704942703247,\n",
       " 0.24674247205257416,\n",
       " 0.25100505352020264,\n",
       " 0.2550588548183441,\n",
       " 0.24314488470554352,\n",
       " 0.25156307220458984,\n",
       " 0.24705857038497925,\n",
       " 0.2701082229614258,\n",
       " 0.23990792036056519,\n",
       " 0.2522619366645813,\n",
       " 0.2678874433040619,\n",
       " 0.2768523097038269,\n",
       " 0.24990598857402802,\n",
       " 0.2476249784231186,\n",
       " 0.2671404480934143,\n",
       " 0.29067638516426086,\n",
       " 0.2721535861492157,\n",
       " 0.24968691170215607,\n",
       " 0.26000726222991943,\n",
       " 0.2785183787345886,\n",
       " 0.2631632089614868,\n",
       " 0.253236323595047,\n",
       " 0.24532674252986908,\n",
       " 0.2346932291984558]"
      ]
     },
     "execution_count": 20,
     "metadata": {},
     "output_type": "execute_result"
    }
   ],
   "source": [
    "test_loss_"
   ]
  },
  {
   "cell_type": "code",
   "execution_count": 21,
   "metadata": {},
   "outputs": [
    {
     "data": {
      "image/png": "[encoded data removed]",
      "text/plain": [
       "<Figure size 432x288 with 1 Axes>"
      ]
     },
     "metadata": {
      "needs_background": "light"
     },
     "output_type": "display_data"
    }
   ],
   "source": [
    "import matplotlib.pyplot as plt\n",
    "%matplotlib inline\n",
    "plt.plot(np.arange(1, len(test_loss_)+1), test_loss_)\n",
    "plt.show()"
   ]
  },
  {
   "cell_type": "code",
   "execution_count": 22,
   "metadata": {},
   "outputs": [
    {
     "data": {
      "image/png": "[encoded data removed]",
      "text/plain": [
       "<Figure size 432x288 with 1 Axes>"
      ]
     },
     "metadata": {
      "needs_background": "light"
     },
     "output_type": "display_data"
    }
   ],
   "source": [
    "import matplotlib.pyplot as plt\n",
    "%matplotlib inline\n",
    "plt.plot(np.arange(1, len(train_loss_)+1), train_loss_)\n",
    "plt.show()"
   ]
  },
  {
   "cell_type": "markdown",
   "metadata": {},
   "source": [
    "---"
   ]
  },
  {
   "cell_type": "markdown",
   "metadata": {},
   "source": [
    "### 儲存跟載入 weight"
   ]
  },
  {
   "cell_type": "markdown",
   "metadata": {},
   "source": [
    "### 儲存"
   ]
  },
  {
   "cell_type": "code",
   "execution_count": 24,
   "metadata": {},
   "outputs": [],
   "source": [
    "##假設我們已經訓練好了模型\n",
    "## 可以存成 .pth or .pt\n",
    "saving_location = './model_save.pth' # './' 代表目前所屬路徑\n",
    "torch.save(model.state_dict(), f=saving_location)"
   ]
  },
  {
   "cell_type": "markdown",
   "metadata": {},
   "source": [
    "### 載入 "
   ]
  },
  {
   "cell_type": "code",
   "execution_count": 30,
   "metadata": {},
   "outputs": [
    {
     "name": "stdout",
     "output_type": "stream",
     "text": [
      "loading successfully...\n",
      "0.9736842105263158\n"
     ]
    }
   ],
   "source": [
    "model = Model(input_dimention=4,output_classes=3).to(device)\n",
    "\n",
    "##載入\n",
    "checkpoint = torch.load(saving_location, map_location=lambda storage, loc: storage)\n",
    "model.load_state_dict(checkpoint)\n",
    "print('loading successfully...')\n",
    "\n",
    "model.eval()\n",
    "output = model(x_test)\n",
    "prediction = softmax(output)\n",
    "prediction = torch.argmax(prediction,1).detach().cpu().numpy()\n",
    "test_accuracy = metrics.accuracy_score(prediction, y_test_numpy)\n",
    "print(test_accuracy)"
   ]
  },
  {
   "cell_type": "code",
   "execution_count": 31,
   "metadata": {},
   "outputs": [
    {
     "data": {
      "text/plain": [
       "OrderedDict([('layer1.linear.0.weight',\n",
       "              tensor([[ 0.1440, -0.4947,  0.1974, -0.4163],\n",
       "                      [ 0.3862, -0.1545, -0.1720, -0.3875],\n",
       "                      [-0.3607, -0.0200,  0.2233, -0.0077],\n",
       "                      [-0.1524,  0.0594, -0.3236, -0.3783],\n",
       "                      [-0.1001, -0.0892, -0.2485, -0.1446],\n",
       "                      [-0.3786, -0.6062,  0.1753, -0.4097],\n",
       "                      [-0.4990,  0.1246, -0.1847, -0.3521],\n",
       "                      [-0.2458, -0.1937,  0.2085,  0.4271],\n",
       "                      [ 0.2723, -0.1008,  0.5387, -0.3558],\n",
       "                      [-0.1474,  0.3438,  0.3161,  0.5275],\n",
       "                      [ 0.3248, -0.7679, -0.0257, -0.1192],\n",
       "                      [ 0.3121,  0.0802,  0.5014,  0.2040],\n",
       "                      [-0.0676, -0.4919,  0.3060,  0.1480],\n",
       "                      [-0.2742, -0.0340, -0.5123,  0.1022],\n",
       "                      [-0.2619,  0.0860,  0.0509,  0.5086],\n",
       "                      [-0.1926, -0.5085,  0.2381, -0.1843]])),\n",
       "             ('layer1.linear.0.bias',\n",
       "              tensor([ 0.4962, -0.1823, -0.0339, -0.2115,  0.5020, -0.2648,  0.0769,  0.1705,\n",
       "                      -0.1363, -0.0200,  0.5332,  0.2551, -0.4197,  0.3716, -0.0327, -0.3159])),\n",
       "             ('layer1.linear.1.weight',\n",
       "              tensor([0.8774, 0.9675, 1.0104, 0.9837, 1.0183, 0.7755, 0.9277, 1.0596, 0.8966,\n",
       "                      0.8862, 0.8335, 0.9168, 0.9917, 0.8568, 1.0484, 0.9391])),\n",
       "             ('layer1.linear.1.bias',\n",
       "              tensor([ 0.5030, -0.2168, -0.0778, -0.4702, -0.4177, -0.0607, -0.4235, -0.4247,\n",
       "                      -0.2737, -0.4363,  0.2812, -0.2824, -0.3986, -0.4913, -0.1750,  0.2371])),\n",
       "             ('layer1.linear.1.running_mean',\n",
       "              tensor([ 0.0464,  0.4741, -1.3723, -2.6329, -1.4786, -4.2092, -3.5853, -0.5368,\n",
       "                       2.7555,  2.0657, -0.1643,  4.5093, -1.0139, -3.1719, -0.4461, -2.2867])),\n",
       "             ('layer1.linear.1.running_var',\n",
       "              tensor([0.1082, 0.0970, 0.0333, 1.0541, 0.4147, 0.1424, 1.1287, 0.3223, 0.9714,\n",
       "                      0.6817, 0.1270, 1.7866, 0.5344, 1.2278, 0.0894, 0.1113])),\n",
       "             ('layer1.linear.1.num_batches_tracked', tensor(11201)),\n",
       "             ('layer2.linear.0.weight',\n",
       "              tensor([[ 3.5313e-01,  2.0959e-02,  2.0054e-01,  1.3180e-01,  3.9703e-02,\n",
       "                       -2.4032e-02, -4.7459e-02,  4.8334e-02, -6.2105e-02, -2.3894e-02,\n",
       "                        4.6586e-01, -2.1640e-01,  1.2012e-01,  1.0504e-01,  2.2518e-02,\n",
       "                        3.4074e-01],\n",
       "                      [-4.0437e-01,  7.7025e-02, -1.1646e-01,  1.2090e-01, -6.3747e-03,\n",
       "                       -1.2733e-01,  5.2092e-02,  1.6980e-01, -6.6113e-02,  5.6764e-02,\n",
       "                       -3.4093e-01,  2.2901e-01,  1.5703e-01,  1.5186e-01,  1.8401e-01,\n",
       "                       -4.7242e-01],\n",
       "                      [ 9.0711e-02,  3.3898e-01, -3.9202e-01, -2.9166e-02,  1.0114e-01,\n",
       "                        6.5282e-02,  2.8520e-01, -2.1082e-01,  2.4496e-01, -4.6125e-02,\n",
       "                       -2.5157e-02,  2.1559e-01,  5.2349e-02, -4.5736e-02, -1.9925e-01,\n",
       "                        8.4390e-03],\n",
       "                      [ 3.1580e-02,  1.1753e-01, -3.7102e-01,  4.2700e-02,  1.9984e-01,\n",
       "                        1.9553e-01,  2.6698e-01, -1.3702e-01,  6.0884e-02,  6.7599e-02,\n",
       "                        1.4251e-01,  1.0075e-01,  3.8029e-01,  1.7327e-01, -4.1901e-01,\n",
       "                       -2.0492e-02],\n",
       "                      [ 1.0467e-01,  2.7312e-01, -1.0773e-01, -9.5815e-02, -2.0417e-02,\n",
       "                       -5.0200e-02, -2.3066e-02,  5.3020e-01,  2.0796e-01,  5.8466e-02,\n",
       "                        1.0215e-03, -7.2482e-02,  4.3784e-01, -1.0938e-01,  1.7410e-01,\n",
       "                        2.5009e-01],\n",
       "                      [ 7.0744e-02,  1.2450e-02,  1.5133e-01, -8.0265e-02,  6.3986e-02,\n",
       "                        1.4423e-01,  1.4412e-01,  1.2113e-01,  2.3578e-01,  3.1677e-01,\n",
       "                        7.9999e-02,  3.7651e-01,  4.2121e-01, -1.0509e-01, -6.7341e-02,\n",
       "                       -5.3889e-03],\n",
       "                      [ 3.9437e-04, -4.4074e-01,  1.2438e-01,  3.9281e-02,  9.2709e-02,\n",
       "                       -6.9353e-03,  1.3517e-01,  2.7531e-01, -6.9230e-02,  7.6623e-02,\n",
       "                        1.6709e-01,  4.2209e-02,  1.5145e-01,  9.2149e-02,  1.9200e-01,\n",
       "                        1.3063e-02],\n",
       "                      [ 4.3917e-01,  6.7423e-03,  1.2882e-01,  2.8413e-01,  3.4875e-02,\n",
       "                       -3.4778e-03, -8.9037e-02,  7.1219e-02, -1.4850e-01,  3.3984e-03,\n",
       "                       -9.1270e-03,  2.4005e-01, -4.0558e-03,  1.8055e-03,  2.8088e-02,\n",
       "                        9.0737e-02],\n",
       "                      [ 2.1784e-02,  1.8768e-01, -2.0641e-01,  7.6970e-02,  8.2735e-02,\n",
       "                        1.3698e-01, -7.9965e-02, -6.4869e-01, -1.9501e-01, -2.0908e-01,\n",
       "                        2.0970e-02, -1.8295e-01, -3.9456e-01,  2.7656e-02, -2.7233e-01,\n",
       "                       -1.3253e-01],\n",
       "                      [-3.5987e-02, -2.8035e-01,  2.3048e-01, -3.1392e-01, -2.9023e-01,\n",
       "                        5.4806e-04, -2.5901e-01,  9.1688e-02, -7.2486e-02,  1.2417e-01,\n",
       "                       -5.4323e-03,  1.0322e-02, -9.0083e-02, -2.6695e-01,  3.0801e-01,\n",
       "                        4.8789e-02],\n",
       "                      [ 1.4379e-01, -1.1814e-02,  1.3650e-01,  1.5324e-01,  1.2589e-01,\n",
       "                        1.8338e-02, -4.8344e-02, -2.2178e-01, -1.4794e-01, -3.5710e-01,\n",
       "                       -3.5039e-02, -4.6597e-01, -3.1696e-02,  1.8071e-01, -3.1954e-02,\n",
       "                        5.4430e-03],\n",
       "                      [ 6.8697e-02, -1.4461e-01,  6.0818e-02, -5.8999e-01, -5.2791e-01,\n",
       "                        5.4093e-02, -6.2019e-01,  6.3436e-02,  1.7506e-02, -1.3001e-01,\n",
       "                        5.3411e-02,  9.7455e-02,  2.7599e-02, -5.0095e-01,  1.0677e-01,\n",
       "                        1.0261e-01],\n",
       "                      [ 3.8987e-02, -5.6377e-02,  4.3470e-02, -1.8392e-01, -4.1781e-01,\n",
       "                       -5.1974e-02, -5.9731e-01,  6.2331e-02,  1.3147e-01, -2.9450e-03,\n",
       "                        7.4018e-02, -4.7849e-02,  1.1018e-01, -3.9550e-01,  2.6465e-02,\n",
       "                        9.0286e-03],\n",
       "                      [-2.5517e-02, -7.8233e-02, -2.2617e-01,  4.3921e-02,  1.1167e-01,\n",
       "                        9.6831e-02, -1.1884e-01, -4.5147e-01, -2.4645e-01, -2.5291e-01,\n",
       "                        7.4083e-02, -5.9608e-02, -3.3566e-01, -1.6311e-01, -3.3887e-01,\n",
       "                       -5.7257e-02],\n",
       "                      [-2.9780e-02, -1.4037e-01,  1.5699e-01,  5.5954e-02,  1.7942e-01,\n",
       "                        2.4114e-02,  1.8376e-01,  7.3173e-02, -4.3771e-01, -1.6249e-01,\n",
       "                       -1.8290e-03, -4.0657e-01,  1.9311e-02,  2.1944e-01,  1.6778e-01,\n",
       "                        8.2351e-03],\n",
       "                      [-7.9157e-03,  1.5008e-01, -5.9974e-02,  1.0537e-01,  1.1467e-01,\n",
       "                        1.2145e-01, -1.7300e-01, -1.7774e-01, -1.8458e-01, -4.9126e-01,\n",
       "                        9.8837e-02, -1.1604e-01, -2.6684e-01,  1.2896e-01, -3.0595e-01,\n",
       "                       -7.0216e-02],\n",
       "                      [ 2.0719e-01,  5.4492e-02, -1.0165e-01, -2.4914e-01, -2.7069e-01,\n",
       "                       -7.3118e-02, -2.8877e-01,  9.0332e-03,  1.7098e-01, -1.5623e-01,\n",
       "                       -6.0477e-02,  4.1965e-02, -1.2130e-01, -3.9392e-01,  4.9595e-03,\n",
       "                        2.8201e-01],\n",
       "                      [ 7.5503e-02,  9.5861e-02, -3.9442e-02,  5.8543e-02,  1.4433e-01,\n",
       "                       -5.0770e-02,  1.0922e-01, -1.9529e-01, -3.4642e-01, -2.2682e-01,\n",
       "                        8.0567e-02, -3.8900e-01, -3.0807e-01,  1.5246e-01,  3.5957e-03,\n",
       "                        6.6191e-02],\n",
       "                      [ 4.9683e-02, -3.5746e-02,  2.9853e-02,  1.3970e-01,  2.3736e-02,\n",
       "                       -1.0533e-02, -1.1262e-01,  2.7547e-01,  2.5661e-01,  6.8573e-02,\n",
       "                        8.6330e-02,  3.1208e-01,  4.5655e-01, -3.9141e-02,  2.4885e-01,\n",
       "                        1.8902e-01],\n",
       "                      [ 4.5544e-02, -1.9382e-02,  2.8502e-02, -2.9106e-01, -2.7511e-01,\n",
       "                        1.2399e-02, -3.5543e-01,  6.4290e-02,  1.7538e-01,  6.3627e-02,\n",
       "                       -3.5237e-03,  1.7746e-01,  3.0590e-02, -3.3168e-01,  4.0040e-02,\n",
       "                       -5.8789e-02],\n",
       "                      [ 1.0583e-01, -1.9422e-01, -5.0823e-02,  5.5116e-02,  2.7659e-01,\n",
       "                       -2.2722e-01,  1.6291e-01,  1.9449e-01,  1.1024e-02,  3.0181e-02,\n",
       "                       -8.2016e-02, -1.3837e-01,  4.2663e-01,  4.9830e-02, -5.9795e-02,\n",
       "                       -9.1232e-03],\n",
       "                      [ 9.0477e-02,  9.1307e-02,  4.6695e-02,  1.2601e-01,  2.0926e-01,\n",
       "                        8.7519e-02,  7.7852e-02, -2.2676e-01, -2.4089e-01, -4.4954e-01,\n",
       "                        3.4651e-02, -2.5144e-01, -1.0160e-01,  8.9631e-02, -1.4347e-01,\n",
       "                        2.6932e-02],\n",
       "                      [ 5.2366e-02, -2.3324e-01,  2.8747e-02, -4.6494e-01, -3.4218e-01,\n",
       "                       -2.7530e-02, -1.4537e-01, -1.8357e-02,  1.7312e-01,  2.5351e-01,\n",
       "                       -1.1936e-01,  3.2915e-01,  1.3304e-01,  4.4024e-02,  1.0911e-01,\n",
       "                       -2.6245e-02],\n",
       "                      [ 2.7569e-02, -5.7761e-02,  3.7765e-01,  7.3808e-02,  4.6924e-02,\n",
       "                        7.2578e-02,  1.5431e-01,  1.2227e-02,  1.0959e-02, -5.4373e-02,\n",
       "                        8.6128e-02,  6.8882e-02, -1.7242e-01,  7.9822e-02,  2.1057e-01,\n",
       "                        2.6426e-01],\n",
       "                      [-5.7586e-02,  2.6140e-01,  1.2899e-02,  5.4590e-02, -2.7258e-01,\n",
       "                       -1.5758e-01, -3.9305e-01, -2.3628e-02,  7.1831e-02,  3.1777e-01,\n",
       "                        2.5644e-01,  1.1612e-01,  3.5763e-02, -3.4748e-01,  1.5694e-01,\n",
       "                       -4.5631e-02],\n",
       "                      [ 1.1180e-01, -3.4721e-01,  3.8376e-01,  1.4133e-01,  6.6826e-02,\n",
       "                        7.2185e-02,  1.9177e-01,  2.1584e-02,  1.2191e-01,  1.5449e-01,\n",
       "                        6.7702e-02,  6.5785e-02,  6.1441e-02,  1.5179e-01,  7.3053e-02,\n",
       "                        3.4352e-01],\n",
       "                      [ 8.5848e-02,  1.2818e-01, -2.0231e-01,  1.2670e-01,  4.0195e-02,\n",
       "                        1.8009e-02,  2.9093e-02, -7.3894e-01, -4.0180e-04, -1.2943e-01,\n",
       "                        3.2348e-02,  5.5190e-02, -4.1769e-01,  1.2066e-01, -2.4176e-01,\n",
       "                       -3.4141e-03],\n",
       "                      [ 1.7570e-01,  2.7764e-01,  9.1571e-02,  2.4001e-01, -8.0909e-03,\n",
       "                        4.9667e-01,  2.2563e-02, -1.7180e-01, -1.0883e-01, -1.0052e-01,\n",
       "                        2.6093e-01, -1.5424e-01, -6.7455e-02,  7.1010e-02,  1.7693e-01,\n",
       "                       -4.2786e-02],\n",
       "                      [ 5.6830e-02,  2.5788e-01, -1.5564e-01,  2.0233e-01, -1.4179e-02,\n",
       "                        1.2266e-01,  6.1104e-02, -1.0082e-01,  7.7451e-02, -9.9010e-02,\n",
       "                        1.0927e-01,  1.3820e-01,  1.5963e-01,  3.8112e-02, -3.8552e-01,\n",
       "                        1.1526e-01],\n",
       "                      [-2.8446e-01,  8.2483e-02,  7.7352e-02,  5.2108e-03,  4.5351e-04,\n",
       "                       -1.7302e-01,  1.0301e-01,  3.2645e-01, -1.2836e-01, -4.2342e-02,\n",
       "                       -4.0461e-01, -2.2776e-02,  1.0060e-01,  1.7623e-02,  1.0012e-01,\n",
       "                       -1.9177e-01],\n",
       "                      [ 1.7900e-01, -3.4624e-01,  2.2321e-01,  3.9891e-01, -1.5822e-01,\n",
       "                       -4.8756e-02,  1.6324e-01, -2.0734e-01,  1.6211e-02,  1.5066e-01,\n",
       "                       -9.4933e-02, -1.1344e-01, -1.2115e-01, -3.4830e-02,  2.1377e-01,\n",
       "                        2.8677e-01],\n",
       "                      [ 7.6109e-02,  2.6527e-01, -2.9223e-02,  5.0274e-02, -1.5934e-01,\n",
       "                       -1.1095e-01, -2.2240e-01,  4.8732e-02,  1.0393e-01,  3.0535e-01,\n",
       "                       -1.8504e-02,  4.2691e-01,  1.6694e-01, -1.4990e-01,  3.3332e-02,\n",
       "                        1.0931e-01]])),\n",
       "             ('layer2.linear.0.bias',\n",
       "              tensor([ 0.1716, -0.0797,  0.2157, -0.2794, -0.0909,  0.1230,  0.1234, -0.0494,\n",
       "                      -0.0449,  0.2828, -0.0912, -0.1899, -0.1069, -0.2356, -0.0669,  0.2263,\n",
       "                      -0.2804, -0.0566, -0.0158,  0.0369, -0.0046, -0.0793,  0.2513, -0.0253,\n",
       "                       0.0411,  0.1031,  0.2256, -0.1643,  0.1773, -0.0651,  0.1584,  0.1407])),\n",
       "             ('layer2.linear.1.weight',\n",
       "              tensor([0.8046, 1.3053, 1.0497, 1.1658, 0.9376, 1.0171, 1.0461, 1.0380, 1.1758,\n",
       "                      1.2110, 0.9538, 1.2744, 1.2702, 0.9928, 1.0283, 1.0778, 0.9070, 1.0318,\n",
       "                      1.0009, 1.2829, 0.8878, 1.0377, 0.9778, 0.9945, 0.9876, 1.1119, 1.1481,\n",
       "                      1.0389, 0.9787, 1.2314, 0.9456, 0.9510])),\n",
       "             ('layer2.linear.1.bias',\n",
       "              tensor([ 0.5488, -0.0382,  0.1219,  0.1442,  0.2018,  0.1262,  0.3404,  0.1944,\n",
       "                       0.3929,  0.4858,  0.3267,  0.2787,  0.3983, -0.1908,  0.2216,  0.3386,\n",
       "                      -0.0905,  0.3212,  0.1337,  0.4284, -0.0167,  0.3924,  0.4094,  0.5212,\n",
       "                       0.2445,  0.1168,  0.2927,  0.0595,  0.2230,  0.0285,  0.2073,  0.2342])),\n",
       "             ('layer2.linear.1.running_mean',\n",
       "              tensor([ 0.9021, -0.5867,  0.3408, -0.1538,  0.4370,  0.6332,  0.3400,  0.4690,\n",
       "                      -0.5048,  0.1399, -0.1449, -0.4869, -0.3324, -0.7678, -0.0973, -0.0465,\n",
       "                      -0.2842, -0.1657,  0.5909, -0.0873,  0.1002, -0.1216,  0.1712,  0.4659,\n",
       "                       0.0896,  0.6951, -0.0037,  0.3035,  0.3637, -0.4300,  0.4439,  0.4514])),\n",
       "             ('layer2.linear.1.running_var',\n",
       "              tensor([0.5996, 0.8388, 0.3283, 0.4593, 0.3586, 0.3525, 0.2441, 0.2349, 0.8494,\n",
       "                      0.6517, 0.3207, 1.2867, 0.6353, 0.5039, 0.3286, 0.5320, 0.4893, 0.4233,\n",
       "                      0.5836, 0.4507, 0.0820, 0.4484, 0.6679, 0.2248, 0.3242, 0.4889, 0.5298,\n",
       "                      0.2364, 0.2673, 0.4750, 0.3666, 0.3319])),\n",
       "             ('layer2.linear.1.num_batches_tracked', tensor(11201)),\n",
       "             ('output.linear.weight',\n",
       "              tensor([[-0.3396,  0.2288,  0.2281,  0.1747, -0.1222, -0.0725, -0.1522, -0.2658,\n",
       "                        0.1365, -0.4364,  0.2324, -0.5294, -0.4382, -0.0746,  0.1331,  0.1172,\n",
       "                       -0.0229,  0.1928,  0.0077, -0.5593, -0.0234,  0.2378, -0.1545, -0.3389,\n",
       "                       -0.1874, -0.5084,  0.2313,  0.1765,  0.1475,  0.3211, -0.2110, -0.1236],\n",
       "                      [ 0.0653, -0.4372, -0.0741, -0.0745, -0.0434, -0.1072,  0.1015,  0.1195,\n",
       "                        0.1191,  0.1309,  0.0990,  0.1019,  0.0920,  0.1565, -0.1681,  0.1284,\n",
       "                        0.1272, -0.0011, -0.0883,  0.1316, -0.0308,  0.1465,  0.1484,  0.0827,\n",
       "                        0.0625,  0.0641,  0.1562,  0.1702, -0.0505, -0.3251,  0.1452,  0.0392],\n",
       "                      [ 0.0651, -0.0315, -0.0939, -0.1125,  0.1718,  0.0936,  0.2184,  0.0889,\n",
       "                       -0.3416,  0.1200, -0.1711,  0.0762,  0.0345, -0.1983, -0.2172, -0.2993,\n",
       "                        0.0605, -0.2960,  0.1308,  0.1400,  0.0907, -0.1629,  0.2136,  0.0400,\n",
       "                        0.1542,  0.1349, -0.2370, -0.0457, -0.1216,  0.1043,  0.0988,  0.2209]])),\n",
       "             ('output.linear.bias', tensor([ 0.0732, -0.0745, -0.0017]))])"
      ]
     },
     "execution_count": 31,
     "metadata": {},
     "output_type": "execute_result"
    }
   ],
   "source": [
    "checkpoint"
   ]
  },
  {
   "cell_type": "markdown",
   "metadata": {},
   "source": [
    "### 進階儲存\n",
    "* 以字典的型式存入各種資料"
   ]
  },
  {
   "cell_type": "code",
   "execution_count": 32,
   "metadata": {},
   "outputs": [],
   "source": [
    "torch.save({\n",
    "            'epoch': epoch,\n",
    "            'model_state_dict': model.state_dict(),\n",
    "            'loss': loss_test,\n",
    "            }, saving_location)"
   ]
  },
  {
   "cell_type": "markdown",
   "metadata": {},
   "source": [
    "### 載入 "
   ]
  },
  {
   "cell_type": "code",
   "execution_count": 33,
   "metadata": {},
   "outputs": [
    {
     "name": "stdout",
     "output_type": "stream",
     "text": [
      "loading successfully...\n",
      "current loss : 0.2346932291984558\n",
      "0.9736842105263158\n"
     ]
    }
   ],
   "source": [
    "##載入訓練好的 weight\n",
    "\n",
    "model = Model(input_dimention=4,output_classes=3).to(device)\n",
    "\n",
    "##載入\n",
    "checkpoint = torch.load(saving_location, map_location=lambda storage, loc: storage)\n",
    "model.load_state_dict(checkpoint['model_state_dict'])\n",
    "print('loading successfully...')\n",
    "print('current loss : {}'.format(checkpoint['loss']))\n",
    "\n",
    "model.eval()\n",
    "output = model(x_test)\n",
    "prediction = softmax(output)\n",
    "prediction = torch.argmax(prediction,1).detach().cpu().numpy()\n",
    "test_accuracy = metrics.accuracy_score(prediction, y_test_numpy)\n",
    "print(test_accuracy)\n",
    "\n"
   ]
  }
 ],
 "metadata": {
  "kernelspec": {
   "display_name": "nlp_marathon",
   "language": "python",
   "name": "nlp_marathon"
  },
  "language_info": {
   "codemirror_mode": {
    "name": "ipython",
    "version": 3
   },
   "file_extension": ".py",
   "mimetype": "text/x-python",
   "name": "python",
   "nbconvert_exporter": "python",
   "pygments_lexer": "ipython3",
   "version": "3.8.0"
  }
 },
 "nbformat": 4,
 "nbformat_minor": 4
}
