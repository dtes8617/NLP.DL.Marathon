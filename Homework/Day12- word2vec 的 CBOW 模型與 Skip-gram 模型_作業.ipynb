{
 "cells": [
  {
   "cell_type": "markdown",
   "metadata": {},
   "source": [
    "### 作業目的: 了解為何需要推論方法的詞向量及其優缺點\n",
    "本次作業主要為思考題，請學員根據題目思考適合的回答"
   ]
  },
  {
   "cell_type": "markdown",
   "metadata": {},
   "source": [
    "### Question:\n",
    "本次課程學習了word2vec中的兩個模型CBOW與Skip-gram，請學員思考與比較此兩種模型的優缺點?"
   ]
  },
  {
   "cell_type": "markdown",
   "metadata": {},
   "source": [
    "### Answer:\n",
    "\n",
    "* **CBOW**:\n",
    "\n",
    "因為 CBOW 透過上下文來預測字詞，較容易捕捉句子架構與字詞的關係。也因此每個字詞需要更多的排列組合來學習字詞關係，模型較難訓練。但也較能參考不同字詞出現後的關係，像是蘋果與手機出現時，可推出是講科技公司。\n",
    "\n",
    "* **Skip-gram**:\n",
    "\n",
    "Skip-gram 因為用字詞來預測附近的關係字詞，較容易訓練出相關字詞，但就較不容易抓出 pattern，但適用的場景就比較多元。"
   ]
  }
 ],
 "metadata": {
  "kernelspec": {
   "display_name": "Python 3 (ipykernel)",
   "language": "python",
   "name": "python3"
  },
  "language_info": {
   "codemirror_mode": {
    "name": "ipython",
    "version": 3
   },
   "file_extension": ".py",
   "mimetype": "text/x-python",
   "name": "python",
   "nbconvert_exporter": "python",
   "pygments_lexer": "ipython3",
   "version": "3.8.0"
  }
 },
 "nbformat": 4,
 "nbformat_minor": 4
}
